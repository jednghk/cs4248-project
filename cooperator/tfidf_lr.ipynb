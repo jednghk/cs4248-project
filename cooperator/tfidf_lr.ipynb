{
 "cells": [
  {
   "cell_type": "code",
   "execution_count": 39,
   "metadata": {},
   "outputs": [],
   "source": [
    "import pandas as pd\n",
    "import numpy as np\n",
    "from sklearn.model_selection import train_test_split"
   ]
  },
  {
   "cell_type": "markdown",
   "metadata": {},
   "source": [
    "| Label | Description     |\n",
    "|-------|-----------------|\n",
    "| 1     | Satire          |\n",
    "| 2     | Hoax            |\n",
    "| 3     | Propaganda      |\n",
    "| 4     | Reliable News   |"
   ]
  },
  {
   "cell_type": "code",
   "execution_count": 19,
   "metadata": {},
   "outputs": [],
   "source": [
    "column_labels = ['label', 'text']"
   ]
  },
  {
   "cell_type": "code",
   "execution_count": 20,
   "metadata": {},
   "outputs": [],
   "source": [
    "train_df = pd.read_csv('data/fulltrain.csv', header=None, names=column_labels)"
   ]
  },
  {
   "cell_type": "code",
   "execution_count": 22,
   "metadata": {},
   "outputs": [],
   "source": [
    "test__df = pd.read_csv('data/balancedtest.csv', header=None, names=column_labels)"
   ]
  },
  {
   "cell_type": "code",
   "execution_count": 21,
   "metadata": {},
   "outputs": [
    {
     "data": {
      "text/html": [
       "<div>\n",
       "<style scoped>\n",
       "    .dataframe tbody tr th:only-of-type {\n",
       "        vertical-align: middle;\n",
       "    }\n",
       "\n",
       "    .dataframe tbody tr th {\n",
       "        vertical-align: top;\n",
       "    }\n",
       "\n",
       "    .dataframe thead th {\n",
       "        text-align: right;\n",
       "    }\n",
       "</style>\n",
       "<table border=\"1\" class=\"dataframe\">\n",
       "  <thead>\n",
       "    <tr style=\"text-align: right;\">\n",
       "      <th></th>\n",
       "      <th>label</th>\n",
       "      <th>text</th>\n",
       "    </tr>\n",
       "  </thead>\n",
       "  <tbody>\n",
       "    <tr>\n",
       "      <th>0</th>\n",
       "      <td>1</td>\n",
       "      <td>A little less than a decade ago, hockey fans w...</td>\n",
       "    </tr>\n",
       "    <tr>\n",
       "      <th>1</th>\n",
       "      <td>1</td>\n",
       "      <td>The writers of the HBO series The Sopranos too...</td>\n",
       "    </tr>\n",
       "    <tr>\n",
       "      <th>2</th>\n",
       "      <td>1</td>\n",
       "      <td>Despite claims from the TV news outlet to offe...</td>\n",
       "    </tr>\n",
       "    <tr>\n",
       "      <th>3</th>\n",
       "      <td>1</td>\n",
       "      <td>After receiving 'subpar' service and experienc...</td>\n",
       "    </tr>\n",
       "    <tr>\n",
       "      <th>4</th>\n",
       "      <td>1</td>\n",
       "      <td>After watching his beloved Seattle Mariners pr...</td>\n",
       "    </tr>\n",
       "  </tbody>\n",
       "</table>\n",
       "</div>"
      ],
      "text/plain": [
       "   label                                               text\n",
       "0      1  A little less than a decade ago, hockey fans w...\n",
       "1      1  The writers of the HBO series The Sopranos too...\n",
       "2      1  Despite claims from the TV news outlet to offe...\n",
       "3      1  After receiving 'subpar' service and experienc...\n",
       "4      1  After watching his beloved Seattle Mariners pr..."
      ]
     },
     "execution_count": 21,
     "metadata": {},
     "output_type": "execute_result"
    }
   ],
   "source": [
    "train_df.head()\n",
    "# test__df.head()"
   ]
  },
  {
   "cell_type": "code",
   "execution_count": 11,
   "metadata": {},
   "outputs": [
    {
     "data": {
      "text/plain": [
       "(48854, 2)"
      ]
     },
     "execution_count": 11,
     "metadata": {},
     "output_type": "execute_result"
    }
   ],
   "source": [
    "train_df.shape"
   ]
  },
  {
   "cell_type": "code",
   "execution_count": 12,
   "metadata": {},
   "outputs": [
    {
     "name": "stdout",
     "output_type": "stream",
     "text": [
      "<class 'pandas.core.frame.DataFrame'>\n",
      "RangeIndex: 48854 entries, 0 to 48853\n",
      "Data columns (total 2 columns):\n",
      " #   Column  Non-Null Count  Dtype \n",
      "---  ------  --------------  ----- \n",
      " 0   label   48854 non-null  int64 \n",
      " 1   text    48854 non-null  object\n",
      "dtypes: int64(1), object(1)\n",
      "memory usage: 763.5+ KB\n"
     ]
    }
   ],
   "source": [
    "train_df.info()"
   ]
  },
  {
   "cell_type": "code",
   "execution_count": 25,
   "metadata": {},
   "outputs": [
    {
     "data": {
      "text/plain": [
       "label\n",
       "3    17870\n",
       "1    14047\n",
       "4     9995\n",
       "2     6942\n",
       "Name: count, dtype: int64"
      ]
     },
     "execution_count": 25,
     "metadata": {},
     "output_type": "execute_result"
    }
   ],
   "source": [
    "train_df[\"label\"].value_counts()"
   ]
  },
  {
   "cell_type": "code",
   "execution_count": 26,
   "metadata": {},
   "outputs": [
    {
     "data": {
      "text/html": [
       "<div>\n",
       "<style scoped>\n",
       "    .dataframe tbody tr th:only-of-type {\n",
       "        vertical-align: middle;\n",
       "    }\n",
       "\n",
       "    .dataframe tbody tr th {\n",
       "        vertical-align: top;\n",
       "    }\n",
       "\n",
       "    .dataframe thead th {\n",
       "        text-align: right;\n",
       "    }\n",
       "</style>\n",
       "<table border=\"1\" class=\"dataframe\">\n",
       "  <thead>\n",
       "    <tr style=\"text-align: right;\">\n",
       "      <th></th>\n",
       "      <th>label</th>\n",
       "      <th>text</th>\n",
       "    </tr>\n",
       "  </thead>\n",
       "  <tbody>\n",
       "    <tr>\n",
       "      <th>0</th>\n",
       "      <td>1</td>\n",
       "      <td>When so many actors seem content to churn out ...</td>\n",
       "    </tr>\n",
       "    <tr>\n",
       "      <th>1</th>\n",
       "      <td>1</td>\n",
       "      <td>In what football insiders are calling an unex...</td>\n",
       "    </tr>\n",
       "    <tr>\n",
       "      <th>2</th>\n",
       "      <td>1</td>\n",
       "      <td>In a freak accident following Game 3 of the N....</td>\n",
       "    </tr>\n",
       "    <tr>\n",
       "      <th>3</th>\n",
       "      <td>1</td>\n",
       "      <td>North Koreas official news agency announced to...</td>\n",
       "    </tr>\n",
       "    <tr>\n",
       "      <th>4</th>\n",
       "      <td>1</td>\n",
       "      <td>The former Alaska Governor Sarah Palin would b...</td>\n",
       "    </tr>\n",
       "  </tbody>\n",
       "</table>\n",
       "</div>"
      ],
      "text/plain": [
       "   label                                               text\n",
       "0      1  When so many actors seem content to churn out ...\n",
       "1      1   In what football insiders are calling an unex...\n",
       "2      1  In a freak accident following Game 3 of the N....\n",
       "3      1  North Koreas official news agency announced to...\n",
       "4      1  The former Alaska Governor Sarah Palin would b..."
      ]
     },
     "execution_count": 26,
     "metadata": {},
     "output_type": "execute_result"
    }
   ],
   "source": [
    "test__df.head()"
   ]
  },
  {
   "cell_type": "code",
   "execution_count": 27,
   "metadata": {},
   "outputs": [
    {
     "name": "stdout",
     "output_type": "stream",
     "text": [
      "<class 'pandas.core.frame.DataFrame'>\n",
      "RangeIndex: 3000 entries, 0 to 2999\n",
      "Data columns (total 2 columns):\n",
      " #   Column  Non-Null Count  Dtype \n",
      "---  ------  --------------  ----- \n",
      " 0   label   3000 non-null   int64 \n",
      " 1   text    3000 non-null   object\n",
      "dtypes: int64(1), object(1)\n",
      "memory usage: 47.0+ KB\n"
     ]
    }
   ],
   "source": [
    "test__df.info()"
   ]
  },
  {
   "cell_type": "code",
   "execution_count": 28,
   "metadata": {},
   "outputs": [
    {
     "data": {
      "text/plain": [
       "label\n",
       "1    750\n",
       "2    750\n",
       "3    750\n",
       "4    750\n",
       "Name: count, dtype: int64"
      ]
     },
     "execution_count": 28,
     "metadata": {},
     "output_type": "execute_result"
    }
   ],
   "source": [
    "test__df[\"label\"].value_counts()"
   ]
  },
  {
   "cell_type": "code",
   "execution_count": 29,
   "metadata": {},
   "outputs": [
    {
     "data": {
      "text/plain": [
       "(3000, 2)"
      ]
     },
     "execution_count": 29,
     "metadata": {},
     "output_type": "execute_result"
    }
   ],
   "source": [
    "test__df.shape"
   ]
  },
  {
   "cell_type": "code",
   "execution_count": 30,
   "metadata": {},
   "outputs": [],
   "source": [
    "data_df = pd.concat([train_df, test__df], ignore_index=True)"
   ]
  },
  {
   "cell_type": "code",
   "execution_count": 31,
   "metadata": {},
   "outputs": [
    {
     "data": {
      "text/html": [
       "<div>\n",
       "<style scoped>\n",
       "    .dataframe tbody tr th:only-of-type {\n",
       "        vertical-align: middle;\n",
       "    }\n",
       "\n",
       "    .dataframe tbody tr th {\n",
       "        vertical-align: top;\n",
       "    }\n",
       "\n",
       "    .dataframe thead th {\n",
       "        text-align: right;\n",
       "    }\n",
       "</style>\n",
       "<table border=\"1\" class=\"dataframe\">\n",
       "  <thead>\n",
       "    <tr style=\"text-align: right;\">\n",
       "      <th></th>\n",
       "      <th>label</th>\n",
       "      <th>text</th>\n",
       "    </tr>\n",
       "  </thead>\n",
       "  <tbody>\n",
       "    <tr>\n",
       "      <th>0</th>\n",
       "      <td>1</td>\n",
       "      <td>A little less than a decade ago, hockey fans w...</td>\n",
       "    </tr>\n",
       "    <tr>\n",
       "      <th>1</th>\n",
       "      <td>1</td>\n",
       "      <td>The writers of the HBO series The Sopranos too...</td>\n",
       "    </tr>\n",
       "    <tr>\n",
       "      <th>2</th>\n",
       "      <td>1</td>\n",
       "      <td>Despite claims from the TV news outlet to offe...</td>\n",
       "    </tr>\n",
       "    <tr>\n",
       "      <th>3</th>\n",
       "      <td>1</td>\n",
       "      <td>After receiving 'subpar' service and experienc...</td>\n",
       "    </tr>\n",
       "    <tr>\n",
       "      <th>4</th>\n",
       "      <td>1</td>\n",
       "      <td>After watching his beloved Seattle Mariners pr...</td>\n",
       "    </tr>\n",
       "  </tbody>\n",
       "</table>\n",
       "</div>"
      ],
      "text/plain": [
       "   label                                               text\n",
       "0      1  A little less than a decade ago, hockey fans w...\n",
       "1      1  The writers of the HBO series The Sopranos too...\n",
       "2      1  Despite claims from the TV news outlet to offe...\n",
       "3      1  After receiving 'subpar' service and experienc...\n",
       "4      1  After watching his beloved Seattle Mariners pr..."
      ]
     },
     "execution_count": 31,
     "metadata": {},
     "output_type": "execute_result"
    }
   ],
   "source": [
    "data_df.head()"
   ]
  },
  {
   "cell_type": "code",
   "execution_count": 32,
   "metadata": {},
   "outputs": [
    {
     "name": "stdout",
     "output_type": "stream",
     "text": [
      "<class 'pandas.core.frame.DataFrame'>\n",
      "RangeIndex: 51854 entries, 0 to 51853\n",
      "Data columns (total 2 columns):\n",
      " #   Column  Non-Null Count  Dtype \n",
      "---  ------  --------------  ----- \n",
      " 0   label   51854 non-null  int64 \n",
      " 1   text    51854 non-null  object\n",
      "dtypes: int64(1), object(1)\n",
      "memory usage: 810.3+ KB\n"
     ]
    }
   ],
   "source": [
    "data_df.info()"
   ]
  },
  {
   "cell_type": "code",
   "execution_count": 33,
   "metadata": {},
   "outputs": [
    {
     "data": {
      "text/plain": [
       "(51854, 2)"
      ]
     },
     "execution_count": 33,
     "metadata": {},
     "output_type": "execute_result"
    }
   ],
   "source": [
    "data_df.shape"
   ]
  },
  {
   "cell_type": "code",
   "execution_count": 34,
   "metadata": {},
   "outputs": [
    {
     "data": {
      "text/plain": [
       "label\n",
       "3    18620\n",
       "1    14797\n",
       "4    10745\n",
       "2     7692\n",
       "Name: count, dtype: int64"
      ]
     },
     "execution_count": 34,
     "metadata": {},
     "output_type": "execute_result"
    }
   ],
   "source": [
    "data_df[\"label\"].value_counts()"
   ]
  },
  {
   "cell_type": "code",
   "execution_count": 36,
   "metadata": {},
   "outputs": [],
   "source": [
    "data_labels_df = data_df[\"label\"]"
   ]
  },
  {
   "cell_type": "code",
   "execution_count": 37,
   "metadata": {},
   "outputs": [],
   "source": [
    "data_texts__df = data_df[\"text\"]"
   ]
  },
  {
   "cell_type": "code",
   "execution_count": 40,
   "metadata": {},
   "outputs": [],
   "source": [
    "X_train, X_test, y_train, y_test = train_test_split(\n",
    "    data_texts__df,\n",
    "    data_labels_df,\n",
    "    test_size=0.2,\n",
    "    random_state=45,\n",
    "    stratify=data_labels_df\n",
    ")"
   ]
  },
  {
   "cell_type": "code",
   "execution_count": 41,
   "metadata": {},
   "outputs": [
    {
     "data": {
      "text/plain": [
       "37267    Wal-Marts List of Crimes Expands by Adding Bri...\n",
       "17800    Supreme Court Justice John Roberts Signs Off O...\n",
       "22957    Defiant Filipino President Just Dared the US t...\n",
       "34345    Major Economic Warning Sign: The Euro Is Headi...\n",
       "11572    Following an onboard fire that has left more t...\n",
       "Name: text, dtype: object"
      ]
     },
     "execution_count": 41,
     "metadata": {},
     "output_type": "execute_result"
    }
   ],
   "source": [
    "X_train.head()"
   ]
  },
  {
   "cell_type": "code",
   "execution_count": 42,
   "metadata": {},
   "outputs": [
    {
     "data": {
      "text/plain": [
       "37267    3\n",
       "17800    2\n",
       "22957    3\n",
       "34345    3\n",
       "11572    1\n",
       "Name: label, dtype: int64"
      ]
     },
     "execution_count": 42,
     "metadata": {},
     "output_type": "execute_result"
    }
   ],
   "source": [
    "y_train.head()"
   ]
  },
  {
   "cell_type": "code",
   "execution_count": 43,
   "metadata": {},
   "outputs": [
    {
     "name": "stdout",
     "output_type": "stream",
     "text": [
      "<class 'pandas.core.series.Series'>\n",
      "Index: 41483 entries, 37267 to 28622\n",
      "Series name: text\n",
      "Non-Null Count  Dtype \n",
      "--------------  ----- \n",
      "41483 non-null  object\n",
      "dtypes: object(1)\n",
      "memory usage: 648.2+ KB\n"
     ]
    }
   ],
   "source": [
    "X_train.info()"
   ]
  },
  {
   "cell_type": "code",
   "execution_count": 44,
   "metadata": {},
   "outputs": [
    {
     "name": "stdout",
     "output_type": "stream",
     "text": [
      "<class 'pandas.core.series.Series'>\n",
      "Index: 10371 entries, 10623 to 32994\n",
      "Series name: text\n",
      "Non-Null Count  Dtype \n",
      "--------------  ----- \n",
      "10371 non-null  object\n",
      "dtypes: object(1)\n",
      "memory usage: 162.0+ KB\n"
     ]
    }
   ],
   "source": [
    "X_test.info()"
   ]
  },
  {
   "cell_type": "code",
   "execution_count": 46,
   "metadata": {},
   "outputs": [
    {
     "data": {
      "text/plain": [
       "label\n",
       "3    14896\n",
       "1    11837\n",
       "4     8596\n",
       "2     6154\n",
       "Name: count, dtype: int64"
      ]
     },
     "execution_count": 46,
     "metadata": {},
     "output_type": "execute_result"
    }
   ],
   "source": [
    "y_train.value_counts()"
   ]
  },
  {
   "cell_type": "code",
   "execution_count": 47,
   "metadata": {},
   "outputs": [
    {
     "data": {
      "text/plain": [
       "label\n",
       "3    3724\n",
       "1    2960\n",
       "4    2149\n",
       "2    1538\n",
       "Name: count, dtype: int64"
      ]
     },
     "execution_count": 47,
     "metadata": {},
     "output_type": "execute_result"
    }
   ],
   "source": [
    "y_test.value_counts()"
   ]
  },
  {
   "cell_type": "markdown",
   "metadata": {},
   "source": [
    "At this point, the training and testing data is ready"
   ]
  },
  {
   "cell_type": "code",
   "execution_count": 49,
   "metadata": {},
   "outputs": [
    {
     "name": "stdout",
     "output_type": "stream",
     "text": [
      "['aa' 'aaa' 'aaaaaaaaaaahhhhhhhh' 'aaaaaahhhh' 'aaaaahhhh' 'aaaaand'\n",
      " 'aaaaarrrggggghhhhhhhh' 'aaaawwwwgagagaaaaahhhhhh' 'aaae' 'aaah'\n",
      " 'aaahahahhaaaa' 'aaahhh' 'aaai' 'aaamen' 'aaanet' 'aaanndd' 'aaapg'\n",
      " 'aaas' 'aab' 'aabar' 'aaby' 'aabys' 'aac' 'aachen' 'aacps' 'aacrjournals'\n",
      " 'aad' 'aadil' 'aadministration' 'aaem' 'aaemonline' 'aaems' 'aaeon'\n",
      " 'aafa' 'aafedt' 'aafia' 'aah' 'aahad' 'aahed' 'aahf' 'aahhh' 'aahhhhh'\n",
      " 'aahing' 'aahs' 'aai' 'aaj' 'aal' 'aalam' 'aaliyah' 'aalst' 'aalto'\n",
      " 'aalw' 'aam' 'aama' 'aamc' 'aamer' 'aamers' 'aamir' 'aamodt' 'aamof'\n",
      " 'aamva' 'aan' 'aand' 'aang' 'aani' 'aans' 'aao' 'aap' 'aapl' 'aapp'\n",
      " 'aappublications' 'aaps' 'aar' 'aarabi' 'aarabis' 'aarde' 'aargh'\n",
      " 'aarhus' 'aarif' 'aarin' 'aaron' 'aaronessa' 'aaronovitch' 'aarons'\n",
      " 'aaronsenvironmental' 'aaronson' 'aaronsons' 'aaroob' 'aarp' 'aarron'\n",
      " 'aars' 'aarthi' 'aarti' 'aas' 'aasia' 'aasp' 'aassi' 'aat' 'aatif'\n",
      " 'aatoxin' 'aau' 'aauw' 'aav' 'aavp' 'aayda' 'aazab' 'aazaz' 'ab' 'aba'\n",
      " 'abaaoud' 'ababa' 'ababb' 'abacha' 'abache' 'aback' 'abackdoor' 'abaco'\n",
      " 'abact' 'abacus' 'abad' 'abadan' 'abadge' 'abadi' 'abadis' 'abadlah'\n",
      " 'abag' 'abags' 'abailable' 'abailty' 'abaire' 'abaissement' 'abalhu'\n",
      " 'abalone' 'aban' 'abandment' 'abandon' 'abandonados' 'abandoned'\n",
      " 'abandonedby' 'abandonedwith' 'abandoning' 'abandonment' 'abandonments'\n",
      " 'abandonned' 'abandons' 'abarca' 'abare' 'abarisser' 'abaroa' 'abarrel'\n",
      " 'abartholomaus' 'abas' 'abasan' 'abasement' 'abashed' 'abasing' 'abass'\n",
      " 'abassador' 'abassan' 'abasteciendo' 'abate' 'abated' 'abatement'\n",
      " 'abatements' 'abates' 'abati' 'abating' 'abatis' 'abattoir' 'abattoirs'\n",
      " 'abawtit' 'abaya' 'abayad' 'abayas' 'abayomi' 'abb' 'abba' 'abbaas'\n",
      " 'abballa' 'abbas' 'abbasi' 'abbasia' 'abbass' 'abbassi' 'abbassian'\n",
      " 'abbate' 'abberton' 'abbett' 'abbey' 'abbiati' 'abbie' 'abbood' 'abbot'\n",
      " 'abbotabad' 'abbots' 'abbott' 'abbottabad' 'abbottadad' 'abbottobad'\n",
      " 'abbotts' 'abboud' 'abbreviate' 'abbreviated' 'abbreviating'\n",
      " 'abbreviation' 'abbreviations' 'abbruzzese' 'abbruzzeze' 'abby' 'abbys'\n",
      " 'abc' 'abcd' 'abcesses' 'abcliz' 'abclocal' 'abcneed' 'abcnews'\n",
      " 'abcpolitics' 'abcr' 'abcs' 'abd' 'abdalla' 'abdallah' 'abdel'\n",
      " 'abdelaati' 'abdelaziz' 'abdelbaset' 'abdelghani' 'abdelhadi'\n",
      " 'abdelhakim' 'abdelhamid' 'abdelhaq' 'abdelkader' 'abdella' 'abdelmoneim'\n",
      " 'abdeloughed' 'abdelrahman' 'abdelwahab' 'abderaman' 'abderrahim'\n",
      " 'abderrahmane' 'abdeslam' 'abdeslams' 'abdi' 'abdicate' 'abdicated'\n",
      " 'abdicates' 'abdicating' 'abdication' 'abdications' 'abdikarim'\n",
      " 'abdikher' 'abdinassir' 'abdinjib' 'abdirahman' 'abdirizak' 'abdkiarim'\n",
      " 'abdo' 'abdolfatah' 'abdolhossein' 'abdollah' 'abdolreza' 'abdomen'\n",
      " 'abdomenizer' 'abdomenizers' 'abdomens' 'abdominal' 'abdominals'\n",
      " 'abdominoplasty' 'abdool' 'abdou' 'abdoulaye' 'abdu' 'abduct' 'abducted'\n",
      " 'abductee' 'abductees' 'abducting' 'abduction' 'abductions' 'abductive'\n",
      " 'abductor' 'abductors' 'abducts' 'abdukhadir' 'abdul' 'abdulah'\n",
      " 'abdulahi' 'abdulazeez' 'abdulaziz' 'abdulazzi' 'abdulcemil' 'abdulhadi'\n",
      " 'abdulhakim' 'abdulkadir' 'abdulkarim' 'abdull' 'abdulla' 'abdullah'\n",
      " 'abdullahi' 'abdullateef' 'abdulmahdi' 'abdulmajid' 'abdulmatallab'\n",
      " 'abdulmohsen' 'abdulmuhsin' 'abdulmutallab' 'abdulmutallabs'\n",
      " 'abdulmuttalabs' 'abdulqader' 'abdulqahar' 'abdulrahim' 'abdulrahims'\n",
      " 'abdulrahmaan' 'abdulrahman' 'abdulrahmans' 'abdulrazzaq' 'abdulrussul'\n",
      " 'abduls' 'abdulsalami' 'abdulwahab' 'abdulwahid' 'abdur' 'abdurahman'\n",
      " 'abdurrahim' 'abdurrahman' 'abdus' 'abdussalam' 'abe' 'abeam' 'abed'\n",
      " 'abedding' 'abedelal' 'abedin' 'abedini' 'abedins' 'abedl' 'abel'\n",
      " 'abelardo' 'abele' 'abelfer' 'abell' 'abella' 'abelrahman' 'abels'\n",
      " 'abelson' 'aben' 'abenaki' 'abend' 'abenomics' 'abenting' 'abepura'\n",
      " 'abercrombie' 'abercrombies' 'aberdeen' 'aberdeens' 'aberfoyle' 'aberg'\n",
      " 'abergel' 'abermals' 'abernathy' 'aberrancy' 'aberrant' 'aberration'\n",
      " 'aberrationa' 'aberrational' 'aberrationist' 'aberrations'\n",
      " 'aberrationsnightmarish' 'abersold' 'aberystwyth' 'abes' 'abessole'\n",
      " 'abet' 'abets' 'abetted' 'abetters' 'abetting' 'abettting' 'abey'\n",
      " 'abeyance' 'abff' 'abfs' 'abg' 'abgs' 'abhar' 'abhey' 'abhimanyu'\n",
      " 'abhisek' 'abhishek' 'abhisit' 'abhor' 'abhorred' 'abhorrence'\n",
      " 'abhorrent' 'abhorrently' 'abhorring' 'abhors' 'abhuit' 'abi']\n",
      "[[0. 0. 0. ... 0. 0. 0.]\n",
      " [0. 0. 0. ... 0. 0. 0.]\n",
      " [0. 0. 0. ... 0. 0. 0.]\n",
      " [0. 0. 0. ... 0. 0. 0.]\n",
      " [0. 0. 0. ... 0. 0. 0.]]\n"
     ]
    }
   ],
   "source": [
    "# Import TfidfVectorizer\n",
    "from sklearn.feature_extraction.text import TfidfVectorizer\n",
    "import re\n",
    "\n",
    "token_pattern = r'(?u)\\b[A-Za-z][A-Za-z]+\\b'\n",
    "\n",
    "# Initialize a TfidfVectorizer object: tfidf_vectorizer\n",
    "tfidf_vectoriser = TfidfVectorizer(token_pattern=token_pattern, stop_words='english', max_df=0.9)\n",
    "\n",
    "# Transform the training data: tfidf_train \n",
    "tfidf_train = tfidf_vectoriser.fit_transform(X_train)\n",
    "\n",
    "# Transform the test data: tfidf_test \n",
    "tfidf_test = tfidf_vectoriser.transform(X_test)\n",
    "\n",
    "# Print the first 10 features\n",
    "print(tfidf_vectoriser.get_feature_names_out()[:400])\n",
    "\n",
    "# Print the first 5 vectors of the tfidf training data\n",
    "print(tfidf_train.A[:5])"
   ]
  },
  {
   "cell_type": "code",
   "execution_count": 50,
   "metadata": {},
   "outputs": [
    {
     "name": "stdout",
     "output_type": "stream",
     "text": [
      "Number of features: 196721\n"
     ]
    }
   ],
   "source": [
    "# Number of features\n",
    "num_features = len(tfidf_vectoriser.vocabulary_)\n",
    "print(f'Number of features: {num_features}')"
   ]
  },
  {
   "cell_type": "code",
   "execution_count": 51,
   "metadata": {},
   "outputs": [
    {
     "name": "stdout",
     "output_type": "stream",
     "text": [
      "Shape of TF-IDF matrix: (41483, 196721)\n",
      "Number of features: 196721\n"
     ]
    }
   ],
   "source": [
    "# Shape of the TF-IDF matrix\n",
    "print(f'Shape of TF-IDF matrix: {tfidf_train.shape}')\n",
    "print(f'Number of features: {tfidf_train.shape[1]}')"
   ]
  },
  {
   "cell_type": "code",
   "execution_count": 53,
   "metadata": {},
   "outputs": [
    {
     "name": "stdout",
     "output_type": "stream",
     "text": [
      "['wenzel' 'wenzhou' 'weo' 'weoskdif' 'wep' 'weperceive' 'weponds' 'wept'\n",
      " 'wer' 'weragama' 'werb' 'werd' 'werdenberg' 'werder' 'werdlick' 'wereabu'\n",
      " 'wereaccording' 'wereadily' 'wereand' 'wereas' 'werebasically'\n",
      " 'werebefore' 'werebrought' 'wereby' 'wereengaging' 'wereentering'\n",
      " 'wereessentially' 'werein' 'wereirradiated' 'wereit' 'werely'\n",
      " 'weremainly' 'weremeeting' 'weremore' 'weren' 'werent' 'werentthat'\n",
      " 'wereplanning' 'wereresponsible' 'wereseen' 'weresignicant'\n",
      " 'weresupposed' 'weret' 'weretalking' 'wereunarmed' 'wereusing' 'werewolf'\n",
      " 'werewolves' 'werewrong' 'werfe' 'werkmeister' 'werkx' 'werlhof'\n",
      " 'wermers' 'wermke' 'wernecke' 'werner' 'wernher' 'werning' 'wernt'\n",
      " 'werrity' 'werritys' 'wershub' 'werst' 'wert' 'wertelecki' 'werteleckis'\n",
      " 'werth' 'wertham' 'wertheim' 'wertheimer' 'werther' 'werthmann' 'wertree'\n",
      " 'wertz' 'wes' 'wesa' 'wesbecker' 'wesbury' 'wescott' 'wesearchr' 'wesee'\n",
      " 'weserve' 'wesigned' 'wesite' 'wesket' 'weslaco' 'wesley' 'wesleyan'\n",
      " 'wesmc' 'wespac' 'wessel' 'wesserunsett' 'wessex' 'wessler' 'wesson'\n",
      " 'wessons' 'west' 'westand' 'westastounding']\n"
     ]
    }
   ],
   "source": [
    "print(tfidf_vectoriser.get_feature_names_out()[189900:190000])\n"
   ]
  },
  {
   "cell_type": "code",
   "execution_count": 54,
   "metadata": {},
   "outputs": [],
   "source": [
    "from sklearn.linear_model import LogisticRegression\n",
    "from sklearn.multiclass import OneVsRestClassifier\n",
    "\n",
    "# Assuming X_tfidf is your TF-IDF features and Y is the label matrix\n",
    "model = OneVsRestClassifier(LogisticRegression(max_iter=1000))\n",
    "model.fit(tfidf_train, y_train)\n",
    "\n",
    "predictions = model.predict(tfidf_test)\n",
    "\n",
    "from sklearn.metrics import accuracy_score\n",
    "accuracy = accuracy_score(y_test, predictions)"
   ]
  },
  {
   "cell_type": "code",
   "execution_count": 55,
   "metadata": {},
   "outputs": [
    {
     "name": "stdout",
     "output_type": "stream",
     "text": [
      "0.9540063638993347\n"
     ]
    }
   ],
   "source": [
    "print(accuracy)"
   ]
  },
  {
   "cell_type": "code",
   "execution_count": 70,
   "metadata": {},
   "outputs": [
    {
     "name": "stdout",
     "output_type": "stream",
     "text": [
      "<class 'numpy.ndarray'>\n",
      "[4]\n"
     ]
    }
   ],
   "source": [
    "#test_text = \"World Leaders Announce Plan to Switch to Symbolic Economy, Trading National Landmarks for Climate Action Credits. In a groundbreaking move that stunned economists worldwide, leaders from over 150 countries convened yesterday to unveil a new economic model based on the trade of iconic national landmarks for climate action credits. 'Why deal with currency fluctuations when you can own the Eiffel Tower?' joked one delegate.\"\n",
    "#test_text = \"Scientists Confirm: Drinking Two Gallons of Ice Water Daily Reverses Aging. Recent studies from a prestigious university (name withheld for privacy) have demonstrated that individuals who drink at least two gallons of ice water daily can reverse the effects of aging, including the elimination of wrinkles and restoration of hair color. Critics demand peer review, while Hollywood stars have already jumped on the icy bandwagon.\"\n",
    "#test_text = \"Global Coalition Admits: Renewable Energy a Hoax to Undermine Economic Stability. In a shocking revelation, spokespersons from the Global Coalition for Fossil Fuels disclosed intercepted communications proving that the recent push for renewable energy sources is an elaborate scheme designed to destabilize the global economy. 'It's clear that solar panels and wind turbines are just the beginning of an anti-economic stability agenda,' the report claims.\"\n",
    "test_text = \"Central Bank Raises Interest Rates to Combat Inflation. In response to the rising inflation that has been impacting the economy over the past months, the central bank announced today an increase in interest rates by 0.5 percentage points. The decision, expected by many analysts, aims to curb inflation by discouraging borrowing and spending. Central Bank President stated, 'This measure is crucial for stabilizing our economy and ensuring sustainable growth.'\"\n",
    "test_text_tfidf = tfidf_vectoriser.transform([test_text])\n",
    "prediction = model.predict(test_text_tfidf)\n",
    "\n",
    "# Assuming 'label_names' is a list of your label names in the same order as during model training:\n",
    "label_names = ['Satire', 'Hoax', 'Propaganda', 'Reliable News']\n",
    "\n",
    "# Convert binary predictions to label names:\n",
    "# predicted_labels = [label_names[i] for i, label in enumerate(prediction[0]) if label == 1]\n",
    "# print(\"Predicted labels:\", predicted_labels)\n",
    "# predicted_label = label_names[prediction]\n",
    "# print(\"Predicted label:\", predicted_label)\n",
    "\n",
    "print(type(prediction))\n",
    "print(prediction)"
   ]
  },
  {
   "cell_type": "code",
   "execution_count": null,
   "metadata": {},
   "outputs": [],
   "source": []
  }
 ],
 "metadata": {
  "kernelspec": {
   "display_name": "CS4248Assignment2env",
   "language": "python",
   "name": "python3"
  },
  "language_info": {
   "codemirror_mode": {
    "name": "ipython",
    "version": 3
   },
   "file_extension": ".py",
   "mimetype": "text/x-python",
   "name": "python",
   "nbconvert_exporter": "python",
   "pygments_lexer": "ipython3",
   "version": "3.12.2"
  }
 },
 "nbformat": 4,
 "nbformat_minor": 2
}
