{
 "cells": [
  {
   "cell_type": "markdown",
   "id": "965d6de2-4541-4a8d-9b7e-645bbb55a9ca",
   "metadata": {},
   "source": [
    "# CS4248 Project Notebook"
   ]
  },
  {
   "cell_type": "code",
   "execution_count": 16,
   "id": "df7c74bd",
   "metadata": {},
   "outputs": [
    {
     "name": "stdout",
     "output_type": "stream",
     "text": [
      "env: PYTORCH_CUDA_ALLOC_CONF=expandable_segments:True\n",
      "env: CUDA_LAUNCH_BLOCKING=1\n"
     ]
    }
   ],
   "source": [
    "%env PYTORCH_CUDA_ALLOC_CONF=expandable_segments:True\n",
    "%env CUDA_LAUNCH_BLOCKING=1"
   ]
  },
  {
   "cell_type": "code",
   "execution_count": null,
   "id": "63bfd11f-736d-4bb6-8a20-7823d75212bf",
   "metadata": {},
   "outputs": [],
   "source": [
    "import pandas as pd\n",
    "import numpy as np\n",
    "import nltk\n",
    "from nltk.corpus import stopwords\n",
    "from nltk.stem import WordNetLemmatizer\n",
    "from nltk.tokenize import word_tokenize\n",
    "import torch\n",
    "from torch import nn, tensor, zeros, argmax\n",
    "import torch.nn.functional as F\n",
    "from torch.nn.utils.rnn import pack_padded_sequence, pad_packed_sequence, pad_sequence\n",
    "import sentencepiece as spm\n",
    "import random\n",
    "import torch.optim as optim\n",
    "from torch.nn import BCELoss\n",
    "from torch import ones_like, zeros_like, tensor\n",
    "from tqdm import tqdm\n",
    "from torch.optim import lr_scheduler\n",
    "from torch.utils.data import DataLoader, Dataset\n",
    "import matplotlib.pyplot as plt\n",
    "from IPython.display import display, clear_output\n",
    "\n",
    "lemmatizer = WordNetLemmatizer()\n",
    "stop_words = set(stopwords.words('english'))\n",
    "device = torch.device(\"cuda\" if torch.cuda.is_available() else \"cpu\") # choose between cpu and cuda\n",
    "\n",
    "# set constant seed to ensure reproducibility\n",
    "torch.manual_seed(42)\n",
    "random.seed(42)\n",
    "np.random.seed(42)\n",
    "torch.cuda.manual_seed_all(42)"
   ]
  },
  {
   "cell_type": "code",
   "execution_count": null,
   "id": "469c00cc-75f4-4577-a68e-c74c763608aa",
   "metadata": {},
   "outputs": [],
   "source": [
    "column_names = ['category', 'text']\n",
    "\n",
    "train = pd.read_csv('fulltrain.csv', names=column_names)\n",
    "X_train_original = train['text']\n",
    "y_train_original = train['category']\n",
    "y_train_original = y_train_original.astype('int16') # reduce memory usage\n",
    "\n",
    "#! use the second quarter of the training data for pretrain\n",
    "X_pretrain = X_train_original[len(X_train_original)//4:2*(len(X_train_original)//5)] # changed to // 5 due to memory constraints\n",
    "y_pretrain = y_train_original[len(y_train_original)//4:2*(len(y_train_original)//5)]\n",
    "\n",
    "del X_train_original, y_train_original, train\n",
    "\n",
    "test = pd.read_csv('balancedtest.csv', names=column_names)"
   ]
  },
  {
   "cell_type": "code",
   "execution_count": null,
   "id": "b49889d4",
   "metadata": {},
   "outputs": [],
   "source": [
    "# CONSTANTS\n",
    "\n",
    "## HYPERPARAMETERS\n",
    "vocab_size = 13_000 # Note that a change in this value will require a retraining of the SentencePiece model\n",
    "word_limit = 512  # Maximum number of words to generate\n",
    "epochs = 10  # Number of epochs for adversarial training\n",
    "batch_size = 64  # Batch size\n",
    "\n",
    "## Generator\n",
    "### Generator pretrain\n",
    "gen_pretrain_epochs = 10  # Number of epochs for generator pretraining\n",
    "gen_pretrain_lr = 0.05  # Learning rate for generator pretraining\n",
    "gen_pretrain_batch_size = 32  # Batch size for generator pretraining\n",
    "### Generator hyperparameters\n",
    "embed_dim = 1024  # Dimensionality of word embeddings\n",
    "hidden_dim = 512  # Number of features in the hidden state of the LSTM\n",
    "enc_drop = 0.2  # Dropout rate for the encoder LSTM\n",
    "dec_drop = 0.2  # Dropout rate for the decoder LSTM\n",
    "temperature = 1 # Temperature for sampling\n",
    "lr_gen_optim = 0.5  # Learning rate for generator optimizer\n",
    "gen_lr_boost = 1.001  # Learning rate boost for generator optimizer (1.0 means no boost)\n",
    "gen_lr_boost_freq = 100  # Frequency of learning rate boost for generator optimizer\n",
    "\n",
    "## Discriminator1\n",
    "### Discriminator1 pretrain\n",
    "disc1_pretrain_epochs = 5  # Number of epochs for discriminator1 pretraining\n",
    "disc1_pretrain_lr = 0.05  # Learning rate for discriminator1 pretraining\n",
    "disc1_pretrain_batch_size = 64  # Batch size for discriminator1 pretraining\n",
    "### Discriminator1 hyperparameters\n",
    "disc1_embed_dim = 256  # Number of features in the hidden state of the LSTM\n",
    "disc1_hidden_dim = 128  # Number of features in the dense layer\n",
    "lr_disc1_optim = 0.0005  # Learning rate for discriminator1 optimizer\n",
    "disc1_lr_boost = 1.001  # Learning rate boost for discriminator1 optimizer (1.0 means no boost)\n",
    "disc1_lr_boost_freq = 100  # Frequency of learning rate boost for discriminator1 optimizer\n"
   ]
  },
  {
   "cell_type": "markdown",
   "id": "15cf36a2-aeaa-411d-a074-753945d66551",
   "metadata": {},
   "source": [
    "## Preprocessing\n",
    "#### Current\n",
    "We make use of `SentencePieceTrainer` to train a SentencePiece model on all of the training data. We then use this model to tokenize the data. We set a vocabulary size of 13_000"
   ]
  },
  {
   "cell_type": "markdown",
   "id": "8a890e78",
   "metadata": {},
   "source": [
    "The below cell assumes that we have the trained SentencePiece model"
   ]
  },
  {
   "cell_type": "code",
   "execution_count": null,
   "id": "8703dda2",
   "metadata": {},
   "outputs": [],
   "source": [
    "sp = spm.SentencePieceProcessor(model_file='spm_model.model') # we assume the model file is in the same directory as this notebook\n",
    "\n",
    "eot_index = sp.eos_id()\n",
    "pad_index = sp.pad_id()\n",
    "bos_index = sp.bos_id()\n",
    "padded_pretrain = nn.utils.rnn.pad_sequence([torch.tensor(sp.encode(text, out_type=int, add_bos=True, add_eos=True), dtype=int) for text in X_pretrain], batch_first=True, padding_value=pad_index)  # num_seq * max_seq"
   ]
  },
  {
   "cell_type": "markdown",
   "id": "776aa71f",
   "metadata": {},
   "source": [
    "## Generator"
   ]
  },
  {
   "cell_type": "code",
   "execution_count": null,
   "id": "154f3139",
   "metadata": {},
   "outputs": [],
   "source": [
    "class Generator(nn.Module):\n",
    "    def __init__(self, vocabulary_size, embed_dim, hidden_dim, enc_drop, dec_drop, temperature, word_limit, eot_index, padding_index, bos_index):\n",
    "        super(Generator, self).__init__()\n",
    "        self.vocabulary_size = vocabulary_size\n",
    "        self.embed_dim = embed_dim\n",
    "        self.hidden_dim = hidden_dim\n",
    "        self.enc_drop = enc_drop\n",
    "        self.dec_drop = dec_drop\n",
    "        self.temperature = temperature\n",
    "        self.word_limit = word_limit\n",
    "        self.eot_index = eot_index\n",
    "        self.padding_index = padding_index\n",
    "        self.bos_index = bos_index\n",
    "        \n",
    "        # Encoder\n",
    "        self.encode = nn.Sequential(\n",
    "            nn.Embedding(vocabulary_size, embed_dim, padding_idx=padding_index),\n",
    "            nn.LSTM(embed_dim, hidden_dim, batch_first=True, dropout=enc_drop)\n",
    "        )\n",
    "        \n",
    "        # Decoder\n",
    "        self.dec_embed = nn.Embedding(vocabulary_size, embed_dim)\n",
    "        self.dec_lstm = nn.LSTM(embed_dim, hidden_dim, dropout=dec_drop, batch_first=True)\n",
    "        self.dec_softmax = nn.Sequential(\n",
    "            nn.Linear(hidden_dim, vocabulary_size),\n",
    "            # removed softmax layer, we will use gumbel softmax instead\n",
    "        )\n",
    "\n",
    "    def pretrain(self, x): # batch_indexes: batch_size * seq_len\n",
    "        '''\n",
    "        Pretrain the generator\n",
    "        We will use teacher forcing to train the generator, training it to predict the next word given the current word.\n",
    "        Problems to consider(?): We are only training decoder not encoder\n",
    "        '''\n",
    "        x = self.dec_embed(x) # batch_size * seq_len * embed_dim\n",
    "        x, _ = self.dec_lstm(x) # batch_size * seq_len * hidden_dim\n",
    "        x = self.dec_softmax(x) # batch_size * seq_len * vocab_size\n",
    "        return x\n",
    "\n",
    "    def forward(self, batch_indexes, max_len=word_limit):\n",
    "        '''\n",
    "        Generate a batch of sequences with the maximum length of max_len\n",
    "        '''\n",
    "        batch_size = batch_indexes.size(0)\n",
    "        \n",
    "        # encode the input sequence\n",
    "        _, (hn, cn) = self.encode(batch_indexes) # 1 * batch_size * hidden_dim\n",
    "\n",
    "        # Samples hold the generated sequences, we fill with padding to initialize\n",
    "        samples = torch.full((batch_size, max_len), self.padding_index).long().to(device) # batch_size * word_limit\n",
    "        samples[:, 0] = self.bos_index # set the first token to the BOS token\n",
    "        mask = torch.ones_like(samples, dtype=torch.bool).to(device)  # Start with a mask that allows writing to all positions\n",
    "\n",
    "        # Distribution: We initialise all to 0 except the BOS token\n",
    "        prev_word = torch.full((batch_size, 1), self.bos_index).long().to(device) # batch_size * 1\n",
    "\n",
    "        for i in range(1, max_len): # Start from 1 because we have already set the first token\n",
    "            # Generate next word\n",
    "            word_tensor = self.dec_embed(prev_word).to(device) # batch_size * embed_dim\n",
    "            _ , (hn, cn) = self.dec_lstm(word_tensor, (hn, cn)) # 1 * batch_size * hidden_dim\n",
    "            del word_tensor\n",
    "            dist = self.dec_softmax(hn) # 1 * batch_size * vocab_size\n",
    "            dist = dist.squeeze(0) # batch_size * vocab_size\n",
    "            dist = F.gumbel_softmax(dist, tau=self.temperature, hard=True) # batch_size * vocab_size\n",
    "            index = torch.argmax(dist, dim=-1)\n",
    "            prev_word = index.unsqueeze(1)\n",
    "            \n",
    "            # Update the mask: Set False for all positions after eot_index for each sequence\n",
    "            samples[:, i].masked_scatter_(mask[:, i], index.view(-1))\n",
    "            eot_generated = index.view(-1) == self.eot_index\n",
    "            if i+1 < max_len:\n",
    "                mask[:, i+1:] &= ~eot_generated.unsqueeze(1)\n",
    "        \n",
    "        return samples"
   ]
  },
  {
   "cell_type": "markdown",
   "id": "c34d3613",
   "metadata": {},
   "source": [
    "## Discriminator 1"
   ]
  },
  {
   "cell_type": "code",
   "execution_count": null,
   "id": "18957113",
   "metadata": {},
   "outputs": [],
   "source": [
    "class Discriminator1(nn.Module):\n",
    "    def __init__(self, vocabulary_size, embedding_dim, hidden_dim):\n",
    "        super(Discriminator1, self).__init__()\n",
    "        self.embedding = nn.Embedding(vocabulary_size, embedding_dim)\n",
    "        self.lstm = nn.LSTM(embedding_dim, hidden_dim, batch_first=True)\n",
    "        self.linear = nn.Linear(hidden_dim, 1)\n",
    "        self.sigmoid = nn.Sigmoid()\n",
    "        \n",
    "    def forward(self, x):\n",
    "        x = self.embedding(x)  # Shape: [batch_size, seq_length, embedding_dim]\n",
    "        \n",
    "        _, (hn, _) = self.lstm(x)  # hn shape: [1, batch_size, hidden_dim] for 1 layer LSTM\n",
    "        \n",
    "        hn = hn[-1]  # Shape: [batch_size, hidden_dim]\n",
    "        \n",
    "        x = self.linear(hn)  # Shape: [batch_size, 1]\n",
    "        x = self.sigmoid(x)\n",
    "        return x\n"
   ]
  },
  {
   "cell_type": "markdown",
   "id": "8c65b164",
   "metadata": {},
   "source": [
    "## Generator - Discriminator 1 Integration"
   ]
  },
  {
   "cell_type": "code",
   "execution_count": null,
   "id": "bad6d6ad",
   "metadata": {},
   "outputs": [],
   "source": [
    "discriminator1 = Discriminator1(vocabulary_size=vocab_size, embedding_dim=disc1_embed_dim, hidden_dim=disc1_hidden_dim).to(device)\n",
    "generator = Generator(vocabulary_size=vocab_size, embed_dim=embed_dim, hidden_dim=hidden_dim, enc_drop=enc_drop, dec_drop=dec_drop, temperature=temperature, word_limit=word_limit, eot_index=eot_index, padding_index=pad_index, bos_index=bos_index).to(device)\n",
    "bce = BCELoss()"
   ]
  },
  {
   "cell_type": "markdown",
   "id": "2472f011",
   "metadata": {},
   "source": [
    "### Pretrain Generator"
   ]
  },
  {
   "cell_type": "code",
   "execution_count": null,
   "id": "df77ed6e",
   "metadata": {},
   "outputs": [],
   "source": [
    "optimizer = optim.Adam(generator.parameters(), lr=gen_pretrain_lr)"
   ]
  },
  {
   "cell_type": "code",
   "execution_count": null,
   "id": "9a2cb112",
   "metadata": {},
   "outputs": [],
   "source": [
    "human_train = DataLoader(padded_pretrain[:len(padded_pretrain)], batch_size=gen_pretrain_batch_size, shuffle=True)\n",
    "\n",
    "for epoch in range(gen_pretrain_epochs):\n",
    "    pbar = tqdm(enumerate(human_train), total=len(human_train), desc=f\"Epoch {epoch+1}/{gen_pretrain_epochs}\")\n",
    "    for i, sequences in pbar:\n",
    "        seq_limit = min(max(50, i*(epoch+1)), word_limit) # Curriculum learning: Increase the sequence length as the training progresses\n",
    "        # Forward pass\n",
    "        inputs = sequences[:, :-1]  # Exclude the last token for input\n",
    "        targets = sequences[:, 1:]  # Exclude the first token for targets\n",
    "        inputs, targets = inputs[:, :seq_limit], targets[:, :seq_limit]  # Limit the sequence length\n",
    "        inputs, targets = inputs.to(device), targets.to(device)\n",
    "        logits = generator.pretrain(inputs)\n",
    "        \n",
    "        # Compute loss\n",
    "        loss = F.cross_entropy(logits.transpose(1, 2), targets)\n",
    "        \n",
    "        # Backward pass and optimization\n",
    "        optimizer.zero_grad()\n",
    "        loss.backward()\n",
    "        optimizer.step()\n",
    "\n",
    "        pbar.set_postfix({\"Loss\": loss.item(), \"Sequence Length\": seq_limit})"
   ]
  },
  {
   "cell_type": "code",
   "execution_count": null,
   "id": "1a6ca94f",
   "metadata": {},
   "outputs": [],
   "source": [
    "# save the model\n",
    "torch.save(generator.state_dict(), 'generator_pretrain.pth')"
   ]
  },
  {
   "cell_type": "code",
   "execution_count": null,
   "id": "a8fcb9ba",
   "metadata": {},
   "outputs": [],
   "source": [
    "# Print some generated sequences from the pretrained generator\n",
    "generated = generator(padded_pretrain[0].to(device).unsqueeze(0))\n",
    "generated = generated.squeeze(0)\n",
    "print(sp.decode([i.item() for i in generated]))"
   ]
  },
  {
   "cell_type": "markdown",
   "id": "9c1e47f2",
   "metadata": {},
   "source": [
    "### Pretrain Discriminator 1"
   ]
  },
  {
   "cell_type": "code",
   "execution_count": null,
   "id": "98a4e69a",
   "metadata": {},
   "outputs": [],
   "source": [
    "human_train = DataLoader(padded_pretrain[:len(padded_pretrain)], batch_size=disc1_pretrain_batch_size, shuffle=True)\n",
    "discriminator1_optimizer_pretrain = optim.Adam(discriminator1.parameters(), lr=disc1_pretrain_lr)\n",
    "\n",
    "for epoch in range(disc1_pretrain_epochs):\n",
    "    pbar = tqdm(enumerate(human_train), total=len(human_train), desc=f\"Epoch {epoch+1}/{disc1_pretrain_epochs}\")\n",
    "    for i, human_data in pbar:\n",
    "        seq_limit = min(max(50, i*(epoch+1)), word_limit) # Curriculum learning: Increase the sequence length as the training progresses\n",
    "        human_data = human_data.to(device)\n",
    "        human_data = human_data[:, :seq_limit]\n",
    "        generated = generator(human_data, seq_limit)\n",
    "        human_pred = discriminator1(human_data)\n",
    "        generated_pred = discriminator1(generated)\n",
    "        pred = torch.cat((human_pred, generated_pred), dim=0)\n",
    "        labels = torch.cat((torch.full_like(human_pred, 0.9), torch.full_like(generated_pred, 0.1)), dim=0).to(device) # use soft labels\n",
    "\n",
    "        discriminator1_optimizer_pretrain.zero_grad()\n",
    "        loss = BCELoss()(pred.squeeze(), labels.squeeze())\n",
    "        loss.backward()\n",
    "        discriminator1_optimizer_pretrain.step()\n",
    "        \n",
    "        pbar.set_postfix({\"Human prediction\": human_pred.mean().item(), \"Generated prediction\": generated_pred.mean().item(), \"Loss\": loss.item(), \"Sequence length\": seq_limit})\n",
    "        del labels, human_data, generated, loss"
   ]
  },
  {
   "cell_type": "code",
   "execution_count": null,
   "id": "e724d267",
   "metadata": {},
   "outputs": [],
   "source": [
    "# save the model\n",
    "torch.save(discriminator1.state_dict(), 'discriminator1_pretrain.pth')"
   ]
  }
 ],
 "metadata": {
  "kernelspec": {
   "display_name": "Python 3 (ipykernel)",
   "language": "python",
   "name": "python3"
  }
 },
 "nbformat": 4,
 "nbformat_minor": 5
}
