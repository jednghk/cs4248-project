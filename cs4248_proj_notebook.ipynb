{
 "cells": [
  {
   "cell_type": "markdown",
   "id": "965d6de2-4541-4a8d-9b7e-645bbb55a9ca",
   "metadata": {},
   "source": [
    "# CS4248 Project Notebook"
   ]
  },
  {
   "cell_type": "code",
   "execution_count": null,
   "id": "df7c74bd",
   "metadata": {},
   "outputs": [],
   "source": [
    "%env PYTORCH_CUDA_ALLOC_CONF=expandable_segments:True\n",
    "%env CUDA_LAUNCH_BLOCKING=1"
   ]
  },
  {
   "cell_type": "code",
   "execution_count": null,
   "id": "63bfd11f-736d-4bb6-8a20-7823d75212bf",
   "metadata": {},
   "outputs": [],
   "source": [
    "import pandas as pd\n",
    "import numpy as np\n",
    "import nltk\n",
    "from nltk.corpus import stopwords\n",
    "from nltk.stem import WordNetLemmatizer\n",
    "from nltk.tokenize import word_tokenize\n",
    "import torch\n",
    "from torch import nn, tensor, zeros, argmax\n",
    "import torch.nn.functional as F\n",
    "from torch.nn.utils.rnn import pack_padded_sequence, pad_packed_sequence, pad_sequence\n",
    "import sentencepiece as spm\n",
    "import random\n",
    "import torch.optim as optim\n",
    "from torch.nn import BCELoss\n",
    "from torch import ones_like, zeros_like, tensor\n",
    "from tqdm import tqdm\n",
    "from torch.optim import lr_scheduler\n",
    "from torch.utils.data import DataLoader, Dataset\n",
    "import matplotlib.pyplot as plt\n",
    "from IPython.display import display, clear_output\n",
    "\n",
    "lemmatizer = WordNetLemmatizer()\n",
    "stop_words = set(stopwords.words('english'))\n",
    "device = torch.device(\"cuda\" if torch.cuda.is_available() else \"cpu\") # choose between cpu and cuda\n",
    "\n",
    "# set constant seed to ensure reproducibility\n",
    "torch.manual_seed(42)\n",
    "random.seed(42)\n",
    "np.random.seed(42)\n",
    "torch.cuda.manual_seed_all(42)"
   ]
  },
  {
   "cell_type": "code",
   "execution_count": null,
   "id": "469c00cc-75f4-4577-a68e-c74c763608aa",
   "metadata": {},
   "outputs": [],
   "source": [
    "column_names = ['category', 'text']\n",
    "\n",
    "train = pd.read_csv('fulltrain.csv', names=column_names)\n",
    "X_train_original = train['text']\n",
    "y_train_original = train['category']\n",
    "y_train_original = y_train_original.astype('int16') # reduce memory usage\n",
    "\n",
    "#! use 1/4 of the training data\n",
    "X_train = X_train_original[:len(X_train_original)//4]\n",
    "y_train = y_train_original[:len(y_train_original)//4]\n",
    "\n",
    "\n",
    "test = pd.read_csv('balancedtest.csv', names=column_names)"
   ]
  },
  {
   "cell_type": "code",
   "execution_count": null,
   "id": "b49889d4",
   "metadata": {},
   "outputs": [],
   "source": [
    "# CONSTANTS\n",
    "\n",
    "## HYPERPARAMETERS\n",
    "vocab_size = 13_000 # Note that a change in this value will require a retraining of the SentencePiece model\n",
    "word_limit = 512  # Maximum number of words to generate\n",
    "batch_size = 64  # Batch size for training\n",
    "epochs = 10  # Number of epochs for adversarial training\n",
    "\n",
    "## Generator\n",
    "### Generator hyperparameters\n",
    "embed_dim = 1024  # Dimensionality of word embeddings\n",
    "hidden_dim = 512  # Number of features in the hidden state of the LSTM\n",
    "enc_drop = 0.2  # Dropout rate for the encoder LSTM\n",
    "dec_drop = 0.2  # Dropout rate for the decoder LSTM\n",
    "temperature = 1 # Temperature for sampling\n",
    "lr_gen_optim = 0.05  # Learning rate for generator optimizer\n",
    "gen_lr_boost = 1  # Learning rate boost for generator optimizer (1.0 means no boost)\n",
    "gen_lr_boost_freq = 50  # Frequency of learning rate boost for generator optimizer\n",
    "\n",
    "## Discriminator1\n",
    "### Discriminator1 hyperparameters\n",
    "disc1_embed_dim = 256  # Number of features in the hidden state of the LSTM\n",
    "disc1_hidden_dim = 128  # Number of features in the dense layer\n",
    "lr_disc1_optim = 0.0005  # Learning rate for discriminator1 optimizer\n",
    "disc1_lr_boost = 1  # Learning rate boost for discriminator1 optimizer (1.0 means no boost)\n",
    "disc1_lr_boost_freq = 100  # Frequency of learning rate boost for discriminator1 optimizer\n"
   ]
  },
  {
   "cell_type": "markdown",
   "id": "15cf36a2-aeaa-411d-a074-753945d66551",
   "metadata": {},
   "source": [
    "## Preprocessing\n",
    "#### Current\n",
    "We make use of `SentencePieceTrainer` to train a SentencePiece model on all of the training data. We then use this model to tokenize the data. We set a vocabulary size of 8000"
   ]
  },
  {
   "cell_type": "markdown",
   "id": "db9c3cdb",
   "metadata": {},
   "source": [
    "uncomment the below 2 cells to \n",
    "1. Generate a csv with the text only of fulltrain.csv\n",
    "2. Train a SentencePiece model on the text only csv"
   ]
  },
  {
   "cell_type": "code",
   "execution_count": null,
   "id": "17a76929",
   "metadata": {},
   "outputs": [],
   "source": [
    "# Used to extract the text from the CSV file\n",
    "\n",
    "# # Path to your CSV file\n",
    "# csv_file_path = 'fulltrain.csv'\n",
    "# # Path to the output text file\n",
    "# text_file_path = 'fulltrain_textonly.txt'\n",
    "\n",
    "# # Load the CSV file\n",
    "# df = pd.read_csv(csv_file_path, names=column_names)\n",
    "\n",
    "# # Assuming the text column is named 'text'. Adjust if your column name is different\n",
    "# texts = df['text']\n",
    "\n",
    "# # Save the text column to a plain text file\n",
    "# with open(text_file_path, 'w', encoding='utf-8') as f:\n",
    "#     for text in texts:\n",
    "#         f.write(text + '\\n')\n",
    "\n",
    "\n"
   ]
  },
  {
   "cell_type": "code",
   "execution_count": null,
   "id": "eecb571f",
   "metadata": {},
   "outputs": [],
   "source": [
    "# Used to create the SentencePiece model and save it to a file\n",
    "# We only need to run this once to create the model file\n",
    "\n",
    "# spm.SentencePieceTrainer.train(input=\"fulltrain_textonly.txt\", \n",
    "#                                model_prefix='spm_model', \n",
    "#                                vocab_size=vocab_size, \n",
    "#                                max_sentence_length=100_000,\n",
    "#                                unk_id=0, bos_id=1, eos_id=2, pad_id=3)\n",
    "\n"
   ]
  },
  {
   "cell_type": "markdown",
   "id": "8a890e78",
   "metadata": {},
   "source": [
    "The below cell assumes that we have the trained SentencePiece model"
   ]
  },
  {
   "cell_type": "code",
   "execution_count": null,
   "id": "8703dda2",
   "metadata": {},
   "outputs": [],
   "source": [
    "sp = spm.SentencePieceProcessor(model_file='spm_model.model') # we assume the model file is in the same directory as this notebook\n",
    "\n",
    "eot_index = sp.eos_id()\n",
    "pad_index = sp.pad_id()\n",
    "bos_index = sp.bos_id()\n",
    "tokens = [sp.encode(text, out_type=int, add_bos=True, add_eos=True) for text in X_train]\n",
    "tokens = [torch.tensor(token, dtype=int) for token in tokens]\n",
    "padded = nn.utils.rnn.pad_sequence(tokens, batch_first=True, padding_value=pad_index)  # num_seq * max_seq"
   ]
  },
  {
   "cell_type": "markdown",
   "id": "776aa71f",
   "metadata": {},
   "source": [
    "## Generator"
   ]
  },
  {
   "cell_type": "code",
   "execution_count": null,
   "id": "154f3139",
   "metadata": {},
   "outputs": [],
   "source": [
    "class Generator(nn.Module):\n",
    "    def __init__(self, vocabulary_size, embed_dim, hidden_dim, enc_drop, dec_drop, temperature, word_limit, eot_index, padding_index, bos_index):\n",
    "        super(Generator, self).__init__()\n",
    "        self.vocabulary_size = vocabulary_size\n",
    "        self.embed_dim = embed_dim\n",
    "        self.hidden_dim = hidden_dim\n",
    "        self.enc_drop = enc_drop\n",
    "        self.dec_drop = dec_drop\n",
    "        self.temperature = temperature\n",
    "        self.word_limit = word_limit\n",
    "        self.eot_index = eot_index\n",
    "        self.padding_index = padding_index\n",
    "        self.bos_index = bos_index\n",
    "        \n",
    "        # Encoder\n",
    "        self.encode = nn.Sequential(\n",
    "            nn.Embedding(vocabulary_size, embed_dim, padding_idx=padding_index),\n",
    "            nn.LSTM(embed_dim, hidden_dim, batch_first=True, dropout=enc_drop)\n",
    "        )\n",
    "        \n",
    "        # Decoder\n",
    "        self.dec_embed = nn.Embedding(vocabulary_size, embed_dim)\n",
    "        self.dec_lstm = nn.LSTM(embed_dim, hidden_dim, dropout=dec_drop, batch_first=True)\n",
    "        self.dec_softmax = nn.Sequential(\n",
    "            nn.Linear(hidden_dim, vocabulary_size),\n",
    "            # removed softmax layer, we will use gumbel softmax instead\n",
    "        )\n",
    "\n",
    "    def pretrain(self, x): # batch_indexes: batch_size * seq_len\n",
    "        '''\n",
    "        Pretrain the generator\n",
    "        We will use teacher forcing to train the generator, training it to predict the next word given the current word.\n",
    "        Problems to consider(?): We are only training decoder not encoder\n",
    "        '''\n",
    "        x = self.dec_embed(x) # batch_size * seq_len * embed_dim\n",
    "        x, _ = self.dec_lstm(x) # batch_size * seq_len * hidden_dim\n",
    "        x = self.dec_softmax(x) # batch_size * seq_len * vocab_size\n",
    "        return x\n",
    "\n",
    "    def forward(self, batch_indexes, max_len=word_limit):\n",
    "        '''\n",
    "        Generate a batch of sequences with the maximum length of max_len\n",
    "        '''\n",
    "        batch_size = batch_indexes.size(0)\n",
    "        \n",
    "        # encode the input sequence\n",
    "        _, (hn, cn) = self.encode(batch_indexes) # 1 * batch_size * hidden_dim\n",
    "\n",
    "        # Samples hold the generated sequences, we fill with padding to initialize\n",
    "        samples = torch.full((batch_size, max_len), self.padding_index).long().to(device) # batch_size * word_limit\n",
    "        samples[:, 0] = self.bos_index # set the first token to the BOS token\n",
    "        mask = torch.ones_like(samples, dtype=torch.bool).to(device)  # Start with a mask that allows writing to all positions\n",
    "\n",
    "        # Distribution: We initialise all to 0 except the BOS token\n",
    "        prev_word = torch.full((batch_size, 1), self.bos_index).long().to(device) # batch_size * 1\n",
    "\n",
    "        for i in range(1, max_len): # Start from 1 because we have already set the first token\n",
    "            # Generate next word\n",
    "            word_tensor = self.dec_embed(prev_word).to(device) # batch_size * embed_dim\n",
    "            _ , (hn, cn) = self.dec_lstm(word_tensor, (hn, cn)) # 1 * batch_size * hidden_dim\n",
    "            del word_tensor\n",
    "            dist = self.dec_softmax(hn) # 1 * batch_size * vocab_size\n",
    "            dist = dist.squeeze(0) # batch_size * vocab_size\n",
    "            dist = F.gumbel_softmax(dist, tau=self.temperature, hard=True) # batch_size * vocab_size\n",
    "            index = torch.argmax(dist, dim=-1)\n",
    "            prev_word = index.unsqueeze(1)\n",
    "            \n",
    "            # Update the mask: Set False for all positions after eot_index for each sequence\n",
    "            samples[:, i].masked_scatter_(mask[:, i], index.view(-1))\n",
    "            eot_generated = index.view(-1) == self.eot_index\n",
    "            if i+1 < max_len:\n",
    "                mask[:, i+1:] &= ~eot_generated.unsqueeze(1)\n",
    "        \n",
    "        return samples"
   ]
  },
  {
   "cell_type": "markdown",
   "id": "c34d3613",
   "metadata": {},
   "source": [
    "## Discriminator 1"
   ]
  },
  {
   "cell_type": "code",
   "execution_count": null,
   "id": "18957113",
   "metadata": {},
   "outputs": [],
   "source": [
    "class Discriminator1(nn.Module):\n",
    "    def __init__(self, vocabulary_size, embedding_dim, hidden_dim):\n",
    "        super(Discriminator1, self).__init__()\n",
    "        self.embedding = nn.Embedding(vocabulary_size, embedding_dim)\n",
    "        self.lstm = nn.LSTM(embedding_dim, hidden_dim, batch_first=True)\n",
    "        self.linear = nn.Linear(hidden_dim, 1)\n",
    "        self.sigmoid = nn.Sigmoid()\n",
    "        \n",
    "    def forward(self, x):\n",
    "        x = self.embedding(x)  # Shape: [batch_size, seq_length, embedding_dim]\n",
    "        \n",
    "        _, (hn, _) = self.lstm(x)  # hn shape: [1, batch_size, hidden_dim] for 1 layer LSTM\n",
    "        \n",
    "        hn = hn[-1]  # Shape: [batch_size, hidden_dim]\n",
    "        \n",
    "        x = self.linear(hn)  # Shape: [batch_size, 1]\n",
    "        x = self.sigmoid(x)\n",
    "        return x\n"
   ]
  },
  {
   "cell_type": "markdown",
   "id": "8c65b164",
   "metadata": {},
   "source": [
    "## Generator - Discriminator 1 Integration"
   ]
  },
  {
   "cell_type": "code",
   "execution_count": null,
   "id": "bad6d6ad",
   "metadata": {},
   "outputs": [],
   "source": [
    "discriminator1 = Discriminator1(vocabulary_size=vocab_size, embedding_dim=disc1_embed_dim, hidden_dim=disc1_hidden_dim).to(device)\n",
    "generator = Generator(vocabulary_size=vocab_size, embed_dim=embed_dim, hidden_dim=hidden_dim, enc_drop=enc_drop, dec_drop=dec_drop, temperature=temperature, word_limit=word_limit, eot_index=eot_index, padding_index=pad_index, bos_index=bos_index).to(device)\n",
    "generator_optimizer = optim.Adagrad(generator.parameters(), lr=lr_gen_optim)\n",
    "generator_scheduler = lr_scheduler.StepLR(generator_optimizer, step_size=gen_lr_boost_freq, gamma=gen_lr_boost)\n",
    "discriminator1_optimizer = optim.Adagrad(discriminator1.parameters(), lr=lr_disc1_optim)\n",
    "discriminator1_scheduler = lr_scheduler.StepLR(discriminator1_optimizer, step_size=disc1_lr_boost_freq, gamma=disc1_lr_boost)\n",
    "bce = BCELoss()"
   ]
  },
  {
   "cell_type": "markdown",
   "id": "2472f011",
   "metadata": {},
   "source": [
    "### Pretrain Generator"
   ]
  },
  {
   "cell_type": "code",
   "execution_count": null,
   "id": "1a6ca94f",
   "metadata": {},
   "outputs": [],
   "source": [
    "# load the model\n",
    "generator.load_state_dict(torch.load('generator_pretrain.pth'))\n",
    "generator.train()"
   ]
  },
  {
   "cell_type": "code",
   "execution_count": null,
   "id": "a8fcb9ba",
   "metadata": {},
   "outputs": [],
   "source": [
    "# Print some generated sequences from the pretrained generator\n",
    "generated = generator(padded[0].to(device).unsqueeze(0))\n",
    "generated = generated.squeeze(0)\n",
    "# indexes = argmax(F.gumbel_softmax(logits[0].squeeze(0), tau=1, hard=True), -1)\n",
    "print(sp.decode([i.item() for i in generated]))"
   ]
  },
  {
   "cell_type": "markdown",
   "id": "9c1e47f2",
   "metadata": {},
   "source": [
    "### Pretrain Discriminator 1"
   ]
  },
  {
   "cell_type": "code",
   "execution_count": null,
   "id": "5a2072df",
   "metadata": {},
   "outputs": [],
   "source": [
    "# load the model\n",
    "discriminator1.load_state_dict(torch.load('discriminator1_pretrain.pth'))\n",
    "discriminator1.train()"
   ]
  },
  {
   "cell_type": "markdown",
   "id": "48ed8517",
   "metadata": {},
   "source": [
    "### Combined Train"
   ]
  },
  {
   "cell_type": "code",
   "execution_count": null,
   "id": "e7c32657",
   "metadata": {},
   "outputs": [],
   "source": [
    "# Save losses and predictions information for plotting\n",
    "generator_losses = []\n",
    "discriminator1_losses = []\n",
    "\n",
    "discriminator_human_predictions = []\n",
    "discriminator_generated_predictions = []"
   ]
  },
  {
   "cell_type": "code",
   "execution_count": null,
   "id": "232f9a48",
   "metadata": {},
   "outputs": [],
   "source": [
    "for epoch in range(epochs):\n",
    "    print(f\"Epoch {epoch+1}/{epochs}\")\n",
    "    pbar = tqdm(range(0, len(padded), batch_size), desc='Training', leave=False)\n",
    "    for i in pbar:\n",
    "        iterations = i // batch_size # Number of iterations\n",
    "        batch_size = min(batch_size, len(padded) - i)\n",
    "        batch_indexes = padded[i:i+batch_size].to(device)  # Get a batch of sequences batch_size * max_seq\n",
    "        seq_limit = min(max(50, i*(epoch+1)), word_limit)  # Limit the number of words to generate based on the iteration number and epoch number\n",
    "\n",
    "        # Compute the generator loss\n",
    "        gen_batch = generator(batch_indexes, seq_limit) # no need to pad generator's output as it is already padded\n",
    "        predicted_fake_d1 = discriminator1.forward(gen_batch)\n",
    "        generator_loss = bce(predicted_fake_d1, torch.full_like(predicted_fake_d1, 1)) # usage of soft labels\n",
    "\n",
    "        # Compute the discriminator loss\n",
    "        batch_indexes = batch_indexes[:, :min(seq_limit, batch_indexes.size(1))] # Truncate the input sequences to the word limit. TODO: Do we need this?\n",
    "        predicted_human_d1 = discriminator1(batch_indexes)\n",
    "        predictions = torch.cat((predicted_fake_d1.detach(), predicted_human_d1), dim=0)\n",
    "        labels = torch.cat((torch.full_like(predicted_fake_d1, 0.1), torch.full_like(predicted_human_d1, 0.9)), dim=0) # usage of soft labels\n",
    "        discriminator1_loss = bce(predictions, labels)\n",
    "\n",
    "\n",
    "        ######## DEBUG REGION ########\n",
    "        # Display the losses every 50 iterations\n",
    "        if iterations % 10 == 0:\n",
    "            # Plot the losses\n",
    "            plt.figure(figsize=(10, 5))\n",
    "            plt.plot(generator_losses, label='Generator Loss')\n",
    "            plt.plot(discriminator1_losses, label='Discriminator Loss')\n",
    "            plt.legend()\n",
    "            plt.xlabel('Iterations')\n",
    "            plt.ylabel('Loss')\n",
    "            plt.title('Training Losses')\n",
    "            \n",
    "            clear_output(wait=True)\n",
    "            display(plt.gcf())  # gcf - Get Current Figure\n",
    "            plt.close()  # Close the figure to prevent it from being displayed again in the output\n",
    "        ######## END DEBUG REGION ########\n",
    "        \n",
    "        # Train the generator\n",
    "        generator_optimizer.zero_grad()\n",
    "        generator_loss.backward()\n",
    "        generator_optimizer.step()\n",
    "        generator_scheduler.step()\n",
    "\n",
    "        # Train the discriminator\n",
    "        discriminator1_optimizer.zero_grad()\n",
    "        discriminator1_loss.backward()\n",
    "        discriminator1_optimizer.step()\n",
    "        discriminator1_scheduler.step()\n",
    "\n",
    "\n",
    "        # Store the losses and predictions for plotting\n",
    "        generator_losses.append(generator_loss.item())\n",
    "        discriminator1_losses.append(discriminator1_loss.item())\n",
    "        discriminator_human_predictions.append(predicted_human_d1.mean().item())\n",
    "        discriminator_generated_predictions.append(predicted_fake_d1.mean().item())\n",
    "\n",
    "        # Update the progress bar\n",
    "        pbar.set_postfix({\"Human prediction\": predicted_human_d1.mean().item(), \"Generated prediction\": predicted_fake_d1.mean().item(), \"Generator Loss\": generator_loss.item(), \"Discriminator Loss\": discriminator1_loss.item()})\n",
    "\n",
    "        # Cleanup to free memory\n",
    "        del batch_indexes, gen_batch, predicted_fake_d1, predicted_human_d1, predictions, labels\n"
   ]
  },
  {
   "cell_type": "markdown",
   "id": "cf34d6f1",
   "metadata": {},
   "source": [
    "### Test code region"
   ]
  },
  {
   "cell_type": "code",
   "execution_count": null,
   "id": "9124e3b7",
   "metadata": {},
   "outputs": [],
   "source": [
    "# generator_test = Generator(vocab_size, embed_dim, hidden_dim, enc_drop, dec_drop, temperature, word_limit, eot_index).to(device)\n",
    "# discriminator1_test = Discriminator1(vocab_size, embed_dim, hidden_dim).to(device)\n",
    "\n",
    "# generator_test.load_state_dict(torch.load(\"generator_test_1_small.pth\"))\n",
    "# generator_test.eval()\n",
    "\n",
    "# generator_optimizer_test = optim.Adam(generator_test.parameters(), lr=lr_gen_optim)\n",
    "# discriminator1_optimizer_test = optim.Adam(discriminator1_test.parameters(), lr=lr_disc1_optim)"
   ]
  },
  {
   "cell_type": "code",
   "execution_count": null,
   "id": "10fb3ff1",
   "metadata": {},
   "outputs": [],
   "source": [
    "# print generated text\n",
    "gen_batch = generator(padded[4:7].to(device), 100)\n",
    "gen_text = sp.decode([i.item() for i in gen_batch[0]])\n",
    "print(gen_text)\n",
    "gen_text = sp.decode([i.item() for i in gen_batch[1]])\n",
    "print(gen_text)\n",
    "gen_text = sp.decode([i.item() for i in gen_batch[2]])\n",
    "print(gen_text)"
   ]
  },
  {
   "cell_type": "code",
   "execution_count": null,
   "id": "d4c0b376",
   "metadata": {},
   "outputs": [],
   "source": [
    "predictions = discriminator1(padded[4:7].to(device))\n",
    "print(predictions)\n",
    "predictions = discriminator1(gen_batch)\n",
    "print(predictions)"
   ]
  },
  {
   "cell_type": "code",
   "execution_count": null,
   "id": "bd3e4d56",
   "metadata": {},
   "outputs": [],
   "source": [
    "# Plot the losses\n",
    "\n",
    "plt.figure(figsize=(10, 5))\n",
    "plt.title(\"Generator and Discriminator Loss During Training\")\n",
    "plt.plot(generator_losses, label=\"Generator\")\n",
    "plt.plot(discriminator1_losses, label=\"Discriminator\")\n",
    "plt.xlabel(\"Iterations\")\n",
    "plt.ylabel(\"Loss\")\n",
    "plt.legend()\n",
    "plt.show()\n",
    "plt.savefig(\"losses_1.png\")\n",
    "plt.close()"
   ]
  },
  {
   "cell_type": "code",
   "execution_count": null,
   "id": "0fe36a1e",
   "metadata": {},
   "outputs": [],
   "source": [
    "plt.figure(figsize=(10, 5))\n",
    "plt.title(\"Discriminator & Generator Predictions During Training\")\n",
    "plt.plot(discriminator_human_predictions, label=\"Human Data\")\n",
    "plt.plot(discriminator_generated_predictions, label=\"Generated Data\")\n",
    "plt.xlabel(\"Iterations\")\n",
    "plt.ylabel(\"Prediction\")\n",
    "plt.legend()\n",
    "plt.savefig(\"predictions_1.png\")\n",
    "plt.show()"
   ]
  },
  {
   "cell_type": "code",
   "execution_count": null,
   "id": "1d4977be",
   "metadata": {},
   "outputs": [],
   "source": [
    "# # generate text\n",
    "# test = padded[83:99].to(device)\n",
    "# generated_texts = generator.generate_text(test, sequence_lengths[83:99], len(test))\n"
   ]
  },
  {
   "cell_type": "code",
   "execution_count": null,
   "id": "00b8904c",
   "metadata": {},
   "outputs": [],
   "source": [
    "# for i, text in enumerate(generated_texts):\n",
    "#     print(f\"Generated text {i+1}:\")\n",
    "#     print(text[1:-1])\n",
    "#     print(sp.decode([token for token in text[1:-1]]))\n",
    "#     print()"
   ]
  },
  {
   "cell_type": "code",
   "execution_count": null,
   "id": "57ec8336",
   "metadata": {},
   "outputs": [],
   "source": [
    "# import torch\n",
    "\n",
    "# def model_memory_usage_in_MB(model):\n",
    "#     # Calculate the number of elements in the model parameters\n",
    "#     num_params = sum(param.numel() for param in model.parameters())\n",
    "    \n",
    "#     # Assuming parameters are stored as 32-bit floats (4 bytes each), calculate memory usage in bytes\n",
    "#     memory_usage_bytes = num_params * 4\n",
    "    \n",
    "#     # Convert bytes to megabytes\n",
    "#     memory_usage_MB = memory_usage_bytes / (1024 ** 2)\n",
    "    \n",
    "#     return memory_usage_MB\n",
    "\n",
    "# generator_memory = model_memory_usage_in_MB(generator)\n",
    "# discriminator_memory = model_memory_usage_in_MB(discriminator1)\n",
    "\n",
    "# print(f\"Generator Memory Usage: {generator_memory:.2f} MB\")\n",
    "# print(f\"Discriminator Memory Usage: {discriminator_memory:.2f} MB\")\n"
   ]
  }
 ],
 "metadata": {
  "kernelspec": {
   "display_name": "Python 3 (ipykernel)",
   "language": "python",
   "name": "python3"
  },
  "language_info": {
   "codemirror_mode": {
    "name": "ipython",
    "version": 3
   },
   "file_extension": ".py",
   "mimetype": "text/x-python",
   "name": "python",
   "nbconvert_exporter": "python",
   "pygments_lexer": "ipython3",
   "version": "3.10.12"
  }
 },
 "nbformat": 4,
 "nbformat_minor": 5
}
