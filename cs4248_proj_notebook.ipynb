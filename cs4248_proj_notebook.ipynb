{
 "cells": [
  {
   "cell_type": "markdown",
   "id": "965d6de2-4541-4a8d-9b7e-645bbb55a9ca",
   "metadata": {},
   "source": [
    "# CS4248 Project Notebook"
   ]
  },
  {
   "cell_type": "code",
   "execution_count": 8,
   "id": "63bfd11f-736d-4bb6-8a20-7823d75212bf",
   "metadata": {},
   "outputs": [],
   "source": [
    "import pandas as pd\n",
    "import numpy as np\n",
    "import nltk\n",
    "from nltk.corpus import stopwords\n",
    "from nltk.stem import WordNetLemmatizer\n",
    "from nltk.tokenize import word_tokenize\n",
    "\n",
    "lemmatizer = WordNetLemmatizer()\n",
    "stop_words = set(stopwords.words('english'))"
   ]
  },
  {
   "cell_type": "code",
   "execution_count": 10,
   "id": "469c00cc-75f4-4577-a68e-c74c763608aa",
   "metadata": {},
   "outputs": [],
   "source": [
    "column_names = ['category', 'text']\n",
    "\n",
    "train = pd.read_csv('fulltrain.csv', names=column_names)\n",
    "X_train = train['text']\n",
    "y_train = train['category']\n",
    "# test = pd.read_csv('balancedtest.csv', names=column_names)"
   ]
  },
  {
   "cell_type": "code",
   "execution_count": 148,
   "id": "1b071338",
   "metadata": {},
   "outputs": [
    {
     "data": {
      "text/plain": [
       "\"In an unprecedented and historic event Monday, the 'I Am Under 18' button, an Internet security device which if selected restricts access to websites featuring adult content, was clicked for the first time ever. 'I knew I could simply claim to be over 18 and continue onto my desired destination, but I also realized that I would have to live with that lie for the rest of my life,' said local resident Garrett Kinley, 17. 'I admit, I was curious to see what type of material I would find on www.juggworld.com, but that button was clearly placed there for a reason, and let's face it: 17 and three-quarters is not 18. I plan to return to the site three months from now, when I will be mature enough to handle its content.' Moments later, Kinley's friend Dave Gerrard, 17, pushed Kinley aside and clicked the 'I Am Over 18' button himself, at which point a tactical police unit broke down his bedroom door and arrested him. \""
      ]
     },
     "execution_count": 148,
     "metadata": {},
     "output_type": "execute_result"
    }
   ],
   "source": [
    "X_train[5654]"
   ]
  },
  {
   "cell_type": "code",
   "execution_count": 150,
   "id": "b5aa8728",
   "metadata": {},
   "outputs": [
    {
     "data": {
      "text/plain": [
       "\"In an unprecedented and historic event Monday, the 'I Am Under 18' button, an Internet security device which if selected restricts access to websites featuring adult content, was clicked for the first time ever. 'I knew I could simply claim to be over 18 and continue onto my desired destination, but I also realized that I would have to live with that lie for the rest of my life,' said local resident Garrett Kinley, 17. 'I admit, I was curious to see what type of material I would find on  but that button was clearly placed there for a reason, and let's face it: 17 and three-quarters is not 18. I plan to return to the site three months from now, when I will be mature enough to handle its content.' Moments later, Kinley's friend Dave Gerrard, 17, pushed Kinley aside and clicked the 'I Am Over 18' button himself, at which point a tactical police unit broke down his bedroom door and arrested him. \""
      ]
     },
     "execution_count": 150,
     "metadata": {},
     "output_type": "execute_result"
    }
   ],
   "source": [
    "def regex(X):\n",
    "    pattern = r'\\S+(?<=http)\\S+||\\S+(?<=https)\\S+||\\S+(?<=www)\\S+||<\\S+>||<\\S+'\n",
    "    X = re.sub(pattern, '', X)\n",
    "    return X\n",
    "\n",
    "regex(X_train[5654])"
   ]
  },
  {
   "cell_type": "markdown",
   "id": "15cf36a2-aeaa-411d-a074-753945d66551",
   "metadata": {},
   "source": [
    "## Preprocessing\n",
    "#### Current\n",
    "1. Tokenize the text\n",
    "2. Lowercasing\n",
    "3. Remove punctuation\n",
    "4. Remove stop words\n",
    "5. Lemmatization"
   ]
  },
  {
   "cell_type": "code",
   "execution_count": 36,
   "id": "3b6cb317-c136-48fb-b5c8-4eada6e6cfa1",
   "metadata": {},
   "outputs": [],
   "source": [
    "def preprocess_text(text, lemmatize=False, remove_stopwords=False, remove_punctuations=False):\n",
    "    tokens = word_tokenize(text.lower())\n",
    "\n",
    "    if lemmatize:\n",
    "        tokens = [lemmatizer.lemmatize(token) for token in tokens]\n",
    "    if remove_stopwords:\n",
    "        tokens = [token for token in tokens if token not in stop_words]\n",
    "    if remove_punctuations:\n",
    "        tokens = [token for token in tokens if token.isalpha()]\n",
    "\n",
    "    return tokens"
   ]
  }
 ],
 "metadata": {
  "kernelspec": {
   "display_name": "cs2109s-ay2223s1",
   "language": "python",
   "name": "python3"
  },
  "language_info": {
   "codemirror_mode": {
    "name": "ipython",
    "version": 3
   },
   "file_extension": ".py",
   "mimetype": "text/x-python",
   "name": "python",
   "nbconvert_exporter": "python",
   "pygments_lexer": "ipython3",
   "version": "3.9.9"
  },
  "vscode": {
   "interpreter": {
    "hash": "37142df48881bfacf7d5975cf848eca9446a92db020d5e5a45663569188446d7"
   }
  }
 },
 "nbformat": 4,
 "nbformat_minor": 5
}
