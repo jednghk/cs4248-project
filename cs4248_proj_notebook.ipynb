{
 "cells": [
  {
   "cell_type": "markdown",
   "id": "965d6de2-4541-4a8d-9b7e-645bbb55a9ca",
   "metadata": {},
   "source": [
    "# CS4248 Project Notebook"
   ]
  },
  {
   "cell_type": "code",
   "execution_count": null,
   "id": "df7c74bd",
   "metadata": {},
   "outputs": [],
   "source": [
    "%env PYTORCH_CUDA_ALLOC_CONF=expandable_segments:True\n",
    "%env CUDA_LAUNCH_BLOCKING=1"
   ]
  },
  {
   "cell_type": "code",
   "execution_count": null,
   "id": "63bfd11f-736d-4bb6-8a20-7823d75212bf",
   "metadata": {},
   "outputs": [],
   "source": [
    "import pandas as pd\n",
    "import numpy as np\n",
    "import nltk\n",
    "from nltk.corpus import stopwords\n",
    "from nltk.stem import WordNetLemmatizer\n",
    "from nltk.tokenize import word_tokenize\n",
    "import torch\n",
    "from torch import nn, tensor, zeros, argmax, arange\n",
    "import torch.nn.functional as F\n",
    "from torch.nn.utils.rnn import pack_padded_sequence, pad_packed_sequence, pad_sequence\n",
    "import sentencepiece as spm\n",
    "import matplotlib.pyplot as plt\n",
    "\n",
    "lemmatizer = WordNetLemmatizer()\n",
    "stop_words = set(stopwords.words('english'))\n",
    "device = torch.device(\"cuda\")"
   ]
  },
  {
   "cell_type": "code",
   "execution_count": null,
   "id": "469c00cc-75f4-4577-a68e-c74c763608aa",
   "metadata": {},
   "outputs": [],
   "source": [
    "column_names = ['category', 'text']\n",
    "\n",
    "train = pd.read_csv('fulltrain.csv', names=column_names)\n",
    "X_train = train['text']\n",
    "y_train = train['category']\n",
    "y_train = y_train.astype('int16')\n",
    "\n",
    "#! use 1/10 of the training data\n",
    "X_train = X_train[:len(X_train)//4]\n",
    "y_train = y_train[:len(y_train)//4]\n",
    "\n",
    "test = pd.read_csv('balancedtest.csv', names=column_names)"
   ]
  },
  {
   "cell_type": "code",
   "execution_count": null,
   "id": "b49889d4",
   "metadata": {},
   "outputs": [],
   "source": [
    "# CONSTANTS\n",
    "\n",
    "# HYPERPARAMETERS\n",
    "vocab_size = 13_000\n",
    "# Generator\n",
    "global_batch_size = 64  # Batch size\n",
    "embed_dim = 512  # Dimensionality of word embeddings\n",
    "hidden_dim = 256  # Number of features in the hidden state of the LSTM\n",
    "enc_drop = 0.2  # Dropout rate for the encoder LSTM\n",
    "dec_drop = 0.2  # Dropout rate for the decoder LSTM\n",
    "temperature = 1 # Temperature for sampling\n",
    "word_limit = 512  # Maximum number of words to generate TODO: for first batch only\n",
    "lr_gen_optim = 10  # Learning rate for generator optimizer\n",
    "\n",
    "# Discriminator1\n",
    "lstm_hidden_dim = 64  # Number of features in the hidden state of the LSTM\n",
    "dense_dim = 32  # Number of features in the dense layer\n",
    "dropout_prob = 0.2  # Dropout rate\n",
    "lr_disc1_optim = 0.000005  # Learning rate for discriminator1 optimizer\n",
    "\n",
    "# Cooperator\n",
    "coop_embed_dim = 512\n",
    "coop_hidden_dim = 256\n",
    "coop_dropout = 0.2\n",
    "coop_lr = 0.0001\n",
    "\n",
    "# Discriminator 2\n",
    "disc2_embed_dim = 256\n",
    "disc2_hidden_dim = 128\n",
    "disc2_dropout = 0.4\n",
    "disc2_lr = 0.0001\n",
    "\n",
    "epochs = 25  # Number of epochs"
   ]
  },
  {
   "cell_type": "markdown",
   "id": "15cf36a2-aeaa-411d-a074-753945d66551",
   "metadata": {},
   "source": [
    "## Preprocessing\n",
    "#### Current\n",
    "We make use of `SentencePieceTrainer` to train a SentencePiece model on all of the training data. We then use this model to tokenize the data. We set a vocabulary size of 8000"
   ]
  },
  {
   "cell_type": "code",
   "execution_count": null,
   "id": "17a76929",
   "metadata": {},
   "outputs": [],
   "source": [
    "# Used to extract the text from the CSV file\n",
    "\n",
    "# # Path to your CSV file\n",
    "# csv_file_path = 'fulltrain.csv'\n",
    "# # Path to the output text file\n",
    "# text_file_path = 'fulltrain_textonly.txt'\n",
    "\n",
    "# # Load the CSV file\n",
    "# df = pd.read_csv(csv_file_path, names=column_names)\n",
    "\n",
    "# # Assuming the text column is named 'text'. Adjust if your column name is different\n",
    "# texts = df['text']\n",
    "\n",
    "# # Save the text column to a plain text file\n",
    "# with open(text_file_path, 'w', encoding='utf-8') as f:\n",
    "#     for text in texts:\n",
    "#         f.write(text + '\\n')\n",
    "\n",
    "\n"
   ]
  },
  {
   "cell_type": "code",
   "execution_count": null,
   "id": "eecb571f",
   "metadata": {},
   "outputs": [],
   "source": [
    "# Used to create the SentencePiece model and save it to a file\n",
    "# We only need to run this once to create the model file\n",
    "\n",
    "# spm.SentencePieceTrainer.train(input=\"fulltrain_textonly.txt\", \n",
    "#                                model_prefix='spm_model', \n",
    "#                                vocab_size=vocab_size, \n",
    "#                                max_sentence_length=100_000,\n",
    "#                                unk_id=0, bos_id=1, eos_id=2, pad_id=3)\n",
    "\n"
   ]
  },
  {
   "cell_type": "markdown",
   "id": "776aa71f",
   "metadata": {},
   "source": [
    "## Generator"
   ]
  },
  {
   "cell_type": "code",
   "execution_count": null,
   "id": "e6c275c1",
   "metadata": {},
   "outputs": [],
   "source": [
    "class Generator(nn.Module):\n",
    "    def __init__(self, vocabulary_size, embed_dim, hidden_dim, enc_drop, dec_drop, temperature, word_limit, eot_index, padding_index, bos_index):\n",
    "        super(Generator, self).__init__()\n",
    "        self.vocabulary_size = vocabulary_size\n",
    "        self.embed_dim = embed_dim\n",
    "        self.hidden_dim = hidden_dim\n",
    "        self.enc_drop = enc_drop\n",
    "        self.dec_drop = dec_drop\n",
    "        self.temperature = temperature\n",
    "        self.word_limit = word_limit\n",
    "        self.eot_index = eot_index\n",
    "        self.padding_index = padding_index\n",
    "        self.bos_index = bos_index\n",
    "        \n",
    "        # Encoder\n",
    "        self.encode = nn.Sequential(\n",
    "            nn.Embedding(vocabulary_size, embed_dim, padding_idx=padding_index),\n",
    "            nn.LSTM(embed_dim, hidden_dim, batch_first=True, dropout=enc_drop)\n",
    "        )\n",
    "\n",
    "        self.transform_hidden = nn.Linear(hidden_dim, hidden_dim * 4)\n",
    "        self.transform_cell = nn.Linear(hidden_dim, hidden_dim * 4)\n",
    "        \n",
    "        # Decoder setup\n",
    "        self.dec_embed = nn.Linear(vocabulary_size, embed_dim)\n",
    "        self.dec_lstm = nn.LSTM(embed_dim, hidden_dim, dropout=dec_drop, batch_first=True)\n",
    "        self.dec_softmax = nn.Sequential(\n",
    "            nn.Linear(hidden_dim, vocabulary_size),\n",
    "            nn.Softmax(dim=-1)\n",
    "        )\n",
    "    \n",
    "    def forward(self, batch_indexes, batch_target_class, max_len=word_limit):\n",
    "        batch_size = batch_indexes.size(0)\n",
    "        # encode the input sequence\n",
    "        _, (hn, cn) = self.encode(batch_indexes) # 1 * batch_size * hidden_dim\n",
    "\n",
    "        # transform the hidden and cell state to the respective target class\n",
    "        hn = self.transform_hidden(hn).reshape((batch_size, 4, hidden_dim))[arange(batch_size), batch_target_class].unsqueeze(0)\n",
    "        cn = self.transform_cell(cn).reshape((batch_size, 4, hidden_dim))[arange(batch_size), batch_target_class].unsqueeze(0)\n",
    "\n",
    "        # Samples hold the generated sequences\n",
    "        samples = zeros((max_len, batch_size, vocab_size)).to(device)\n",
    "        samples[0, :, self.bos_index] = 1 # set the first token to the BOS token\n",
    "\n",
    "        # Distribution: We initialise all to 0 except the BOS token\n",
    "        with torch.no_grad():\n",
    "            dist = torch.zeros(batch_size, vocab_size).to(device) # batch_size * vocab_size\n",
    "            dist[:, self.bos_index] = 1\n",
    "\n",
    "        for i in range(1, max_len): # Start from 1 because we have already set the first token\n",
    "            # Generate next word\n",
    "            word_tensor = self.dec_embed(dist).to(device) # batch_size * embed_dim\n",
    "            _ , (hn, cn) = self.dec_lstm(word_tensor.unsqueeze(1), (hn, cn)) # batch_size * 1 * embed_dim, batch_size * hidden_dim\n",
    "            del word_tensor\n",
    "            dist = self.dec_softmax(hn.squeeze(0)) # batch_size * vocab_size\n",
    "            samples[i, :, :] = dist\n",
    "        \n",
    "        return samples.permute(1, 0, 2)"
   ]
  },
  {
   "cell_type": "markdown",
   "id": "c34d3613",
   "metadata": {},
   "source": [
    "## Discriminator 1"
   ]
  },
  {
   "cell_type": "code",
   "execution_count": null,
   "id": "8b600812",
   "metadata": {},
   "outputs": [],
   "source": [
    "import torch\n",
    "import torch.nn as nn\n",
    "\n",
    "class Discriminator1(nn.Module):\n",
    "    def __init__(self, vocabulary_size, embedding_dim, hidden_dim, padding_index):\n",
    "        super(Discriminator1, self).__init__()\n",
    "        self.embedding = nn.Linear(vocabulary_size, embedding_dim)\n",
    "        self.lstm = nn.LSTM(embedding_dim, hidden_dim, batch_first=True)\n",
    "        self.linear = nn.Linear(hidden_dim, 1)\n",
    "        self.sigmoid = nn.Sigmoid()\n",
    "        \n",
    "    def forward(self, x):\n",
    "        x = self.embedding(x)  # Shape: [batch_size, seq_length, embedding_dim]\n",
    "        \n",
    "        _, (hn, _) = self.lstm(x)  # hn shape: [1, batch_size, hidden_dim] for 1 layer LSTM\n",
    "        \n",
    "        hn = hn[0]  # Shape: [batch_size, hidden_dim]\n",
    "        \n",
    "        x = self.linear(hn)  # Shape: [batch_size, 1]\n",
    "        x = x.squeeze(-1)\n",
    "        x = self.sigmoid(x)\n",
    "        return x\n"
   ]
  },
  {
   "cell_type": "markdown",
   "id": "48ed8517",
   "metadata": {},
   "source": [
    "## Generator-Discriminator 1 Integration"
   ]
  },
  {
   "cell_type": "code",
   "execution_count": null,
   "id": "f78898c5",
   "metadata": {},
   "outputs": [],
   "source": [
    "sp = spm.SentencePieceProcessor(model_file='spm_model.model')\n",
    "\n",
    "eot_index = sp.eos_id()\n",
    "pad_index = sp.pad_id()\n",
    "bos_index = sp.bos_id()\n",
    "tokens = [sp.encode(text, out_type=int, add_bos=True, add_eos=True) for text in X_train]\n",
    "tokens = [torch.tensor(token, dtype=int) for token in tokens]\n",
    "padded = nn.utils.rnn.pad_sequence(tokens, batch_first=True, padding_value=pad_index)  # num_seq * max_seq"
   ]
  },
  {
   "cell_type": "code",
   "execution_count": null,
   "id": "3f3c623c",
   "metadata": {},
   "outputs": [],
   "source": [
    "import torch.optim as optim\n",
    "from torch.nn import BCELoss\n",
    "from torch import ones_like, zeros_like, tensor\n",
    "from tqdm import tqdm\n",
    "\n",
    "bce = BCELoss()\n",
    "\n",
    "generator = Generator(vocab_size, embed_dim, hidden_dim, enc_drop, dec_drop, temperature, word_limit, eot_index, pad_index, bos_index).to(device)\n",
    "discriminator1 = Discriminator1(vocab_size, embed_dim, hidden_dim, pad_index).to(device)\n",
    "generator_optimizer = optim.Adam(generator.parameters(), lr=lr_gen_optim)\n",
    "discriminator1_optimizer = optim.Adam(discriminator1.parameters(), lr=lr_disc1_optim)"
   ]
  },
  {
   "cell_type": "markdown",
   "id": "76d2d2eb",
   "metadata": {},
   "source": [
    "## Cooperator"
   ]
  },
  {
   "cell_type": "code",
   "execution_count": null,
   "id": "2ed764e4",
   "metadata": {},
   "outputs": [],
   "source": [
    "class Cooperator(nn.Module):\n",
    "    def __init__(self, vocab_size, embed_dim, hidden_dim, dropout):\n",
    "        super(Cooperator, self).__init__()\n",
    "        self.embedding = nn.Linear(vocab_size, embed_dim)\n",
    "        self.lstm = nn.LSTM(embed_dim, hidden_dim, batch_first=True, dropout=dropout)\n",
    "        self.linear = nn.Linear(hidden_dim, 4)\n",
    "        self.softmax = nn.Softmax(dim=-1)\n",
    "    def forward(self, x):\n",
    "        x = self.embedding(x)\n",
    "        _ , (hn, _) = self.lstm(x)\n",
    "        x = self.linear(hn[0])\n",
    "        x = self.softmax(x)\n",
    "        return x"
   ]
  },
  {
   "cell_type": "markdown",
   "id": "ee89b30e",
   "metadata": {},
   "source": [
    "## Discriminator 2"
   ]
  },
  {
   "cell_type": "code",
   "execution_count": null,
   "id": "efa70a44",
   "metadata": {},
   "outputs": [],
   "source": [
    "class Discriminator2(nn.Module):\n",
    "    def __init__(self, vocab_size, embed_dim, hidden_dim, dropout):\n",
    "        super(Discriminator2, self).__init__()\n",
    "        self.embedding = nn.Linear(vocab_size, embed_dim)\n",
    "        self.lstm = nn.LSTM(embed_dim, hidden_dim, batch_first=True, dropout=dropout)\n",
    "        self.linear = nn.Linear(hidden_dim, 4)\n",
    "        self.softmax = nn.Softmax(dim=-1)\n",
    "    def forward(self, x):\n",
    "        x = self.embedding(x)\n",
    "        _ , (hn, _) = self.lstm(x)\n",
    "        x = self.linear(hn[0])\n",
    "        x = self.softmax(x)\n",
    "        return x"
   ]
  },
  {
   "cell_type": "code",
   "execution_count": null,
   "id": "6b0abafe",
   "metadata": {},
   "outputs": [],
   "source": [
    "def index_to_binary(batch_indexes):\n",
    "    batch_size, seq_size = batch_indexes.shape\n",
    "    batch_binary = zeros((batch_size, seq_size, vocab_size)).to(device)\n",
    "    batch_binary[arange(batch_size)[:, None], arange(seq_size)[None, :], batch_indexes] = 1\n",
    "    return batch_binary"
   ]
  },
  {
   "cell_type": "markdown",
   "id": "c9365d15",
   "metadata": {},
   "source": [
    "## Complete Integration"
   ]
  },
  {
   "cell_type": "code",
   "execution_count": null,
   "id": "39c94161",
   "metadata": {},
   "outputs": [],
   "source": [
    "from torch import optim, nn, randint, cat, zeros, ones\n",
    "\n",
    "cooperator = Cooperator(vocab_size, coop_embed_dim, coop_hidden_dim, coop_dropout).to(device)\n",
    "discriminator2 = Discriminator2(vocab_size, disc2_embed_dim, disc2_hidden_dim, disc2_dropout).to(device)\n",
    "cooperator_optim = optim.Adam(cooperator.parameters(), lr=coop_lr)\n",
    "discriminator2_optim = optim.Adam(discriminator2.parameters(), lr=disc2_lr)\n",
    "\n",
    "CELoss = nn.CrossEntropyLoss()"
   ]
  },
  {
   "cell_type": "code",
   "execution_count": null,
   "id": "98b6d1a0",
   "metadata": {},
   "outputs": [],
   "source": [
    "gen_losses = []\n",
    "disc1_losses = []\n",
    "coop_losses = []\n",
    "disc2_losses = []"
   ]
  },
  {
   "cell_type": "code",
   "execution_count": null,
   "id": "0b88917e",
   "metadata": {},
   "outputs": [],
   "source": [
    "import matplotlib.pyplot as plt\n",
    "from IPython.display import display, clear_output\n",
    "\n",
    "for epoch in range(epochs):\n",
    "    print(f\"Epoch {epoch+1}/{epochs}\")\n",
    "    for i in tqdm(range(0, len(padded), global_batch_size), desc='Training', leave=False):\n",
    "        batch_size = min(global_batch_size, len(padded) - i)\n",
    "        batch_indexes = padded[i:i+batch_size].to(device)  # Get a batch of sequences batch_size * max_seq\n",
    "        batch_human_class = tensor(y_train)[i:i+batch_size].type(torch.long).to(device)\n",
    "        batch_target_class = randint(4, (batch_size, )).to(device)\n",
    "        modified_human = index_to_binary(batch_indexes)\n",
    "\n",
    "        torch.autograd.set_detect_anomaly(True)\n",
    "\n",
    "        gen_batch = generator(batch_indexes, batch_target_class)\n",
    "        disc1_AI = discriminator1(gen_batch)\n",
    "        coop_AI = cooperator(gen_batch)\n",
    "        disc2_AI = discriminator2(gen_batch)\n",
    "\n",
    "        disc1_human = discriminator1(modified_human)\n",
    "        coop_human = cooperator(modified_human)\n",
    "        disc2_human = discriminator2(modified_human)\n",
    "\n",
    "        zero_tensor = zeros(batch_size).to(device)\n",
    "        one_tensor = ones(batch_size).to(device)\n",
    "        disc1_loss = bce(cat((disc1_AI, disc1_human)), cat((zero_tensor, one_tensor)))\n",
    "        disc1_losses.append(disc1_loss)\n",
    "\n",
    "        with torch.no_grad():\n",
    "            disc1_AI_loss = CELoss(disc1_AI, zero_tensor)\n",
    "            coop_AI_loss = CELoss(coop_AI, batch_target_class)\n",
    "            disc2_AI_loss = CELoss(disc2_AI, batch_target_class)\n",
    "\n",
    "        gen_loss = CELoss(disc1_AI, one_tensor) + coop_AI_loss - disc2_AI_loss\n",
    "        gen_losses.append(gen_loss)\n",
    "        coop_loss = disc1_AI_loss * coop_AI_loss + CELoss(coop_human, batch_human_class)\n",
    "        coop_losses.append(coop_loss)\n",
    "        disc2_loss = disc1_AI_loss * disc2_AI_loss + CELoss(disc2_human, batch_human_class)\n",
    "        disc2_losses.append(disc2_loss)\n",
    "\n",
    "        print(\"GEN {} DISC1 {} COOP {} DISC2 {}\".format(gen_loss, disc1_loss, coop_loss, disc2_loss))\n",
    "\n",
    "        discriminator1_optimizer.zero_grad()\n",
    "        disc1_loss.backward(retain_graph=True)\n",
    "        discriminator1_optimizer.step()\n",
    "\n",
    "        cooperator_optim.zero_grad()\n",
    "        coop_loss.backward(retain_graph=True)\n",
    "        cooperator_optim.step()\n",
    "\n",
    "        discriminator2_optim.zero_grad()\n",
    "        disc2_loss.backward(retain_graph=True)\n",
    "        discriminator2_optim.step()\n",
    "\n",
    "        generator_optimizer.zero_grad()\n",
    "        gen_loss.backward(retain_graph=True)\n",
    "        generator_optimizer.step()\n",
    "\n",
    "        \n",
    "        ######## DEBUG REGION ########\n",
    "        # Display the losses every 50 iterations\n",
    "        if i % 10 == 0:\n",
    "            # Plot the losses\n",
    "            plt.figure(figsize=(10, 5))\n",
    "            plt.plot(gen_losses, label='Generator Loss')\n",
    "            plt.plot(disc1_losses, label='Discriminator 1 Loss')\n",
    "            plt.plot(coop_loss, label='Cooperator Loss')\n",
    "            plt.plot(disc2_loss, label='Discriminator 2 Loss')\n",
    "            plt.legend()\n",
    "            plt.xlabel('Iterations')\n",
    "            plt.ylabel('Loss')\n",
    "            plt.title('Training Losses')\n",
    "            \n",
    "            clear_output(wait=True)\n",
    "            display(plt.gcf())  # gcf - Get Current Figure\n",
    "            plt.close()  # Close the figure to prevent it from being displayed again in the output\n",
    "        ######## END DEBUG REGION ########\n",
    "\n",
    "        # delete afterwards\n",
    "\n",
    "torch.save(generator.state_dict(), \"generator_test_1.pth\")\n",
    "torch.save(discriminator1.state_dict(), \"discriminator1_test_1.pth\")\n",
    "torch.save(cooperator.state_dict(), \"cooperator_test_1.pth\")\n",
    "torch.save(discriminator2.state_dict(), \"discriminator2_test_1.pth\")"
   ]
  },
  {
   "cell_type": "markdown",
   "id": "cf34d6f1",
   "metadata": {},
   "source": [
    "### Test code region"
   ]
  },
  {
   "cell_type": "code",
   "execution_count": null,
   "id": "9124e3b7",
   "metadata": {},
   "outputs": [],
   "source": [
    "# generator_test = Generator(vocab_size, embed_dim, hidden_dim, enc_drop, dec_drop, temperature, word_limit, eot_index).to(device)\n",
    "# discriminator1_test = Discriminator1(vocab_size, embed_dim, hidden_dim).to(device)\n",
    "\n",
    "# generator_test.load_state_dict(torch.load(\"generator_test_1_small.pth\"))\n",
    "# generator_test.eval()\n",
    "\n",
    "# generator_optimizer_test = optim.Adam(generator_test.parameters(), lr=lr_gen_optim)\n",
    "# discriminator1_optimizer_test = optim.Adam(discriminator1_test.parameters(), lr=lr_disc1_optim)"
   ]
  },
  {
   "cell_type": "code",
   "execution_count": null,
   "id": "10fb3ff1",
   "metadata": {},
   "outputs": [],
   "source": [
    "# print generated text\n",
    "gen_batch = generator(padded[:3].to(device), 3)\n",
    "gen_text = sp.decode([i.item() for i in gen_batch[0]])\n",
    "print(gen_text)\n",
    "gen_text = sp.decode([i.item() for i in gen_batch[2]])\n",
    "print(gen_text)"
   ]
  },
  {
   "cell_type": "code",
   "execution_count": null,
   "id": "bd3e4d56",
   "metadata": {},
   "outputs": [],
   "source": [
    "# Plot the losses\n",
    "\n",
    "plt.figure(figsize=(10, 5))\n",
    "plt.title(\"Generator and Discriminator Loss During Training\")\n",
    "plt.plot(generator_losses, label=\"Generator\")\n",
    "plt.plot(discriminator1_losses, label=\"Discriminator\")\n",
    "plt.xlabel(\"Iterations\")\n",
    "plt.ylabel(\"Loss\")\n",
    "plt.legend()\n",
    "plt.show()\n",
    "plt.savefig(\"losses.png\")\n",
    "plt.close()"
   ]
  },
  {
   "cell_type": "code",
   "execution_count": null,
   "id": "1d4977be",
   "metadata": {},
   "outputs": [],
   "source": [
    "# # generate text\n",
    "# test = padded[83:99].to(device)\n",
    "# generated_texts = generator.generate_text(test, sequence_lengths[83:99], len(test))\n"
   ]
  },
  {
   "cell_type": "code",
   "execution_count": null,
   "id": "00b8904c",
   "metadata": {},
   "outputs": [],
   "source": [
    "# for i, text in enumerate(generated_texts):\n",
    "#     print(f\"Generated text {i+1}:\")\n",
    "#     print(text[1:-1])\n",
    "#     print(sp.decode([token for token in text[1:-1]]))\n",
    "#     print()"
   ]
  },
  {
   "cell_type": "code",
   "execution_count": null,
   "id": "57ec8336",
   "metadata": {},
   "outputs": [],
   "source": [
    "# import torch\n",
    "\n",
    "# def model_memory_usage_in_MB(model):\n",
    "#     # Calculate the number of elements in the model parameters\n",
    "#     num_params = sum(param.numel() for param in model.parameters())\n",
    "    \n",
    "#     # Assuming parameters are stored as 32-bit floats (4 bytes each), calculate memory usage in bytes\n",
    "#     memory_usage_bytes = num_params * 4\n",
    "    \n",
    "#     # Convert bytes to megabytes\n",
    "#     memory_usage_MB = memory_usage_bytes / (1024 ** 2)\n",
    "    \n",
    "#     return memory_usage_MB\n",
    "\n",
    "# generator_memory = model_memory_usage_in_MB(generator)\n",
    "# discriminator_memory = model_memory_usage_in_MB(discriminator1)\n",
    "\n",
    "# print(f\"Generator Memory Usage: {generator_memory:.2f} MB\")\n",
    "# print(f\"Discriminator Memory Usage: {discriminator_memory:.2f} MB\")\n"
   ]
  }
 ],
 "metadata": {
  "kernelspec": {
   "display_name": "Python 3 (ipykernel)",
   "language": "python",
   "name": "python3"
  }
 },
 "nbformat": 4,
 "nbformat_minor": 5
}
